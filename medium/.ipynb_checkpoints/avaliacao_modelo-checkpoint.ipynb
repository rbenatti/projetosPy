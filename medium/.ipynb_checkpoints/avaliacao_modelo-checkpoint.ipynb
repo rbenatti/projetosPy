{
 "cells": [
  {
   "cell_type": "markdown",
   "metadata": {
    "colab_type": "text",
    "id": "view-in-github"
   },
   "source": [
    "<a href=\"https://colab.research.google.com/github/marcelorandolfo/medium/blob/master/avaliacao_modelo.ipynb\" target=\"_parent\"><img src=\"https://colab.research.google.com/assets/colab-badge.svg\" alt=\"Open In Colab\"/></a>"
   ]
  },
  {
   "cell_type": "markdown",
   "metadata": {
    "colab_type": "text",
    "id": "5M0cgLXpng2N"
   },
   "source": [
    "### Preparação"
   ]
  },
  {
   "cell_type": "code",
   "execution_count": 139,
   "metadata": {},
   "outputs": [],
   "source": [
    "# importar as bibliotecas necessárias\n",
    "import pandas as pd\n",
    "import matplotlib.pyplot as plt\n",
    "import numpy as np\n",
    "import seaborn as sns\n",
    "import warnings\n",
    "warnings.filterwarnings('ignore')\n",
    "\n",
    "# estilo notebook\n",
    "sns.set()"
   ]
  },
  {
   "cell_type": "code",
   "execution_count": 140,
   "metadata": {
    "colab": {
     "base_uri": "https://localhost:8080/",
     "height": 204
    },
    "colab_type": "code",
    "id": "6YDpte_Lmeqy",
    "outputId": "37bc1bc1-fd5e-4866-baeb-85cc91ce7fd3"
   },
   "outputs": [
    {
     "data": {
      "text/html": [
       "<div>\n",
       "<style scoped>\n",
       "    .dataframe tbody tr th:only-of-type {\n",
       "        vertical-align: middle;\n",
       "    }\n",
       "\n",
       "    .dataframe tbody tr th {\n",
       "        vertical-align: top;\n",
       "    }\n",
       "\n",
       "    .dataframe thead th {\n",
       "        text-align: right;\n",
       "    }\n",
       "</style>\n",
       "<table border=\"1\" class=\"dataframe\">\n",
       "  <thead>\n",
       "    <tr style=\"text-align: right;\">\n",
       "      <th></th>\n",
       "      <th>age</th>\n",
       "      <th>sex</th>\n",
       "      <th>cp</th>\n",
       "      <th>trestbps</th>\n",
       "      <th>chol</th>\n",
       "      <th>fbs</th>\n",
       "      <th>restecg</th>\n",
       "      <th>thalach</th>\n",
       "      <th>exang</th>\n",
       "      <th>oldpeak</th>\n",
       "      <th>slope</th>\n",
       "      <th>ca</th>\n",
       "      <th>thal</th>\n",
       "      <th>num</th>\n",
       "    </tr>\n",
       "  </thead>\n",
       "  <tbody>\n",
       "    <tr>\n",
       "      <th>0</th>\n",
       "      <td>63.0</td>\n",
       "      <td>1.0</td>\n",
       "      <td>1.0</td>\n",
       "      <td>145.0</td>\n",
       "      <td>233.0</td>\n",
       "      <td>1.0</td>\n",
       "      <td>2.0</td>\n",
       "      <td>150.0</td>\n",
       "      <td>0.0</td>\n",
       "      <td>2.3</td>\n",
       "      <td>3.0</td>\n",
       "      <td>0.0</td>\n",
       "      <td>6.0</td>\n",
       "      <td>0</td>\n",
       "    </tr>\n",
       "    <tr>\n",
       "      <th>1</th>\n",
       "      <td>67.0</td>\n",
       "      <td>1.0</td>\n",
       "      <td>4.0</td>\n",
       "      <td>160.0</td>\n",
       "      <td>286.0</td>\n",
       "      <td>0.0</td>\n",
       "      <td>2.0</td>\n",
       "      <td>108.0</td>\n",
       "      <td>1.0</td>\n",
       "      <td>1.5</td>\n",
       "      <td>2.0</td>\n",
       "      <td>3.0</td>\n",
       "      <td>3.0</td>\n",
       "      <td>1</td>\n",
       "    </tr>\n",
       "    <tr>\n",
       "      <th>2</th>\n",
       "      <td>67.0</td>\n",
       "      <td>1.0</td>\n",
       "      <td>4.0</td>\n",
       "      <td>120.0</td>\n",
       "      <td>229.0</td>\n",
       "      <td>0.0</td>\n",
       "      <td>2.0</td>\n",
       "      <td>129.0</td>\n",
       "      <td>1.0</td>\n",
       "      <td>2.6</td>\n",
       "      <td>2.0</td>\n",
       "      <td>2.0</td>\n",
       "      <td>7.0</td>\n",
       "      <td>1</td>\n",
       "    </tr>\n",
       "    <tr>\n",
       "      <th>3</th>\n",
       "      <td>37.0</td>\n",
       "      <td>1.0</td>\n",
       "      <td>3.0</td>\n",
       "      <td>130.0</td>\n",
       "      <td>250.0</td>\n",
       "      <td>0.0</td>\n",
       "      <td>0.0</td>\n",
       "      <td>187.0</td>\n",
       "      <td>0.0</td>\n",
       "      <td>3.5</td>\n",
       "      <td>3.0</td>\n",
       "      <td>0.0</td>\n",
       "      <td>3.0</td>\n",
       "      <td>0</td>\n",
       "    </tr>\n",
       "    <tr>\n",
       "      <th>4</th>\n",
       "      <td>41.0</td>\n",
       "      <td>0.0</td>\n",
       "      <td>2.0</td>\n",
       "      <td>130.0</td>\n",
       "      <td>204.0</td>\n",
       "      <td>0.0</td>\n",
       "      <td>2.0</td>\n",
       "      <td>172.0</td>\n",
       "      <td>0.0</td>\n",
       "      <td>1.4</td>\n",
       "      <td>1.0</td>\n",
       "      <td>0.0</td>\n",
       "      <td>3.0</td>\n",
       "      <td>0</td>\n",
       "    </tr>\n",
       "  </tbody>\n",
       "</table>\n",
       "</div>"
      ],
      "text/plain": [
       "    age  sex   cp  trestbps   chol  fbs  restecg  thalach  exang  oldpeak  \\\n",
       "0  63.0  1.0  1.0     145.0  233.0  1.0      2.0    150.0    0.0      2.3   \n",
       "1  67.0  1.0  4.0     160.0  286.0  0.0      2.0    108.0    1.0      1.5   \n",
       "2  67.0  1.0  4.0     120.0  229.0  0.0      2.0    129.0    1.0      2.6   \n",
       "3  37.0  1.0  3.0     130.0  250.0  0.0      0.0    187.0    0.0      3.5   \n",
       "4  41.0  0.0  2.0     130.0  204.0  0.0      2.0    172.0    0.0      1.4   \n",
       "\n",
       "   slope   ca  thal  num  \n",
       "0    3.0  0.0   6.0    0  \n",
       "1    2.0  3.0   3.0    1  \n",
       "2    2.0  2.0   7.0    1  \n",
       "3    3.0  0.0   3.0    0  \n",
       "4    1.0  0.0   3.0    0  "
      ]
     },
     "execution_count": 140,
     "metadata": {},
     "output_type": "execute_result"
    }
   ],
   "source": [
    "# url dos datasets\n",
    "## url_path = 'https://raw.githubusercontent.com/marcelorandolfo/data-science/master/data/heart_disease_processed.csv'\n",
    "url_path = 'C:/Users/ricardo.benatti.GOV/dataset/csv/heart_disease_processed.csv'\n",
    "\n",
    "# importar dataset da UCI\n",
    "df = pd.read_csv(url_path)\n",
    "\n",
    "# visualizar as primeiras 5 entradas\n",
    "df.head()"
   ]
  },
  {
   "cell_type": "code",
   "execution_count": 141,
   "metadata": {
    "colab": {
     "base_uri": "https://localhost:8080/",
     "height": 51
    },
    "colab_type": "code",
    "id": "UnLuHyfynDFH",
    "outputId": "8a8e28de-8907-4095-dafd-70bc2201bc24"
   },
   "outputs": [
    {
     "name": "stdout",
     "output_type": "stream",
     "text": [
      "Número de entradas/pacientes:\t 297\n",
      "Número de variáveis/atributos pessoais e médicos:\t 14\n"
     ]
    }
   ],
   "source": [
    "# obtendo o tamanho do dataframe\n",
    "\n",
    "print('Número de entradas/pacientes:\\t {}'.format(df.shape[0]))\n",
    "print('Número de variáveis/atributos pessoais e médicos:\\t {}'.format(df.shape[1]))"
   ]
  },
  {
   "cell_type": "code",
   "execution_count": 142,
   "metadata": {
    "colab": {
     "base_uri": "https://localhost:8080/",
     "height": 170
    },
    "colab_type": "code",
    "id": "LcoV5y8KnLaY",
    "outputId": "035d8865-f906-4992-fafa-9f71374ff2ec"
   },
   "outputs": [
    {
     "name": "stdout",
     "output_type": "stream",
     "text": [
      "DataFrame principal:\n",
      "\n",
      "Número de entradas/pacientes:\t 287\n",
      "Número de variáveis/atributos pessoais e médicos:\t 14\n",
      "\n",
      "DataFrame de teste:\n",
      "\n",
      "Número de entradas/pacientes:\t 10\n",
      "Número de variáveis/atributos pessoais e médicos:\t 14\n"
     ]
    }
   ],
   "source": [
    "pd.options.mode.chained_assignment = None\n",
    "# criando dataset auxiliar\n",
    "df_aux = df.tail(10)\n",
    "\n",
    "# eliminando valores de df_teste do dataset original\n",
    "df_model = df.drop(index = df_aux.index)\n",
    "\n",
    "# arrumando index de df_teste\n",
    "df_aux.reset_index(inplace = True)\n",
    "df_aux.drop('index', axis = 1, inplace = True)\n",
    "\n",
    "# obtendo o novo tamanho do dataframe\n",
    "print('DataFrame principal:\\n')\n",
    "print('Número de entradas/pacientes:\\t {}'.format(df_model.shape[0]))\n",
    "print('Número de variáveis/atributos pessoais e médicos:\\t {}\\n'.format(df_model.shape[1]))\n",
    "\n",
    "# obtendo o tamanho do dataframe auxiliar\n",
    "print('DataFrame de teste:\\n')\n",
    "print('Número de entradas/pacientes:\\t {}'.format(df_aux.shape[0]))\n",
    "print('Número de variáveis/atributos pessoais e médicos:\\t {}'.format(df_aux.shape[1]))"
   ]
  },
  {
   "cell_type": "code",
   "execution_count": 143,
   "metadata": {
    "colab": {
     "base_uri": "https://localhost:8080/",
     "height": 204
    },
    "colab_type": "code",
    "id": "PCNVmq7wnPgc",
    "outputId": "8a69f300-2b82-4082-c2e6-6e2ea9582b67"
   },
   "outputs": [
    {
     "data": {
      "text/html": [
       "<div>\n",
       "<style scoped>\n",
       "    .dataframe tbody tr th:only-of-type {\n",
       "        vertical-align: middle;\n",
       "    }\n",
       "\n",
       "    .dataframe tbody tr th {\n",
       "        vertical-align: top;\n",
       "    }\n",
       "\n",
       "    .dataframe thead th {\n",
       "        text-align: right;\n",
       "    }\n",
       "</style>\n",
       "<table border=\"1\" class=\"dataframe\">\n",
       "  <thead>\n",
       "    <tr style=\"text-align: right;\">\n",
       "      <th></th>\n",
       "      <th>age</th>\n",
       "      <th>sex</th>\n",
       "      <th>cp</th>\n",
       "      <th>trestbps</th>\n",
       "      <th>chol</th>\n",
       "      <th>fbs</th>\n",
       "      <th>restecg</th>\n",
       "      <th>thalach</th>\n",
       "      <th>exang</th>\n",
       "      <th>oldpeak</th>\n",
       "      <th>slope</th>\n",
       "      <th>ca</th>\n",
       "      <th>thal</th>\n",
       "      <th>num</th>\n",
       "    </tr>\n",
       "  </thead>\n",
       "  <tbody>\n",
       "    <tr>\n",
       "      <th>0</th>\n",
       "      <td>63.0</td>\n",
       "      <td>1.0</td>\n",
       "      <td>1.0</td>\n",
       "      <td>145.0</td>\n",
       "      <td>233.0</td>\n",
       "      <td>1.0</td>\n",
       "      <td>2.0</td>\n",
       "      <td>150.0</td>\n",
       "      <td>0.0</td>\n",
       "      <td>2.3</td>\n",
       "      <td>3.0</td>\n",
       "      <td>0.0</td>\n",
       "      <td>6.0</td>\n",
       "      <td>0</td>\n",
       "    </tr>\n",
       "    <tr>\n",
       "      <th>1</th>\n",
       "      <td>67.0</td>\n",
       "      <td>1.0</td>\n",
       "      <td>4.0</td>\n",
       "      <td>160.0</td>\n",
       "      <td>286.0</td>\n",
       "      <td>0.0</td>\n",
       "      <td>2.0</td>\n",
       "      <td>108.0</td>\n",
       "      <td>1.0</td>\n",
       "      <td>1.5</td>\n",
       "      <td>2.0</td>\n",
       "      <td>3.0</td>\n",
       "      <td>3.0</td>\n",
       "      <td>1</td>\n",
       "    </tr>\n",
       "    <tr>\n",
       "      <th>2</th>\n",
       "      <td>67.0</td>\n",
       "      <td>1.0</td>\n",
       "      <td>4.0</td>\n",
       "      <td>120.0</td>\n",
       "      <td>229.0</td>\n",
       "      <td>0.0</td>\n",
       "      <td>2.0</td>\n",
       "      <td>129.0</td>\n",
       "      <td>1.0</td>\n",
       "      <td>2.6</td>\n",
       "      <td>2.0</td>\n",
       "      <td>2.0</td>\n",
       "      <td>7.0</td>\n",
       "      <td>1</td>\n",
       "    </tr>\n",
       "    <tr>\n",
       "      <th>3</th>\n",
       "      <td>37.0</td>\n",
       "      <td>1.0</td>\n",
       "      <td>3.0</td>\n",
       "      <td>130.0</td>\n",
       "      <td>250.0</td>\n",
       "      <td>0.0</td>\n",
       "      <td>0.0</td>\n",
       "      <td>187.0</td>\n",
       "      <td>0.0</td>\n",
       "      <td>3.5</td>\n",
       "      <td>3.0</td>\n",
       "      <td>0.0</td>\n",
       "      <td>3.0</td>\n",
       "      <td>0</td>\n",
       "    </tr>\n",
       "    <tr>\n",
       "      <th>4</th>\n",
       "      <td>41.0</td>\n",
       "      <td>0.0</td>\n",
       "      <td>2.0</td>\n",
       "      <td>130.0</td>\n",
       "      <td>204.0</td>\n",
       "      <td>0.0</td>\n",
       "      <td>2.0</td>\n",
       "      <td>172.0</td>\n",
       "      <td>0.0</td>\n",
       "      <td>1.4</td>\n",
       "      <td>1.0</td>\n",
       "      <td>0.0</td>\n",
       "      <td>3.0</td>\n",
       "      <td>0</td>\n",
       "    </tr>\n",
       "  </tbody>\n",
       "</table>\n",
       "</div>"
      ],
      "text/plain": [
       "    age  sex   cp  trestbps   chol  fbs  restecg  thalach  exang  oldpeak  \\\n",
       "0  63.0  1.0  1.0     145.0  233.0  1.0      2.0    150.0    0.0      2.3   \n",
       "1  67.0  1.0  4.0     160.0  286.0  0.0      2.0    108.0    1.0      1.5   \n",
       "2  67.0  1.0  4.0     120.0  229.0  0.0      2.0    129.0    1.0      2.6   \n",
       "3  37.0  1.0  3.0     130.0  250.0  0.0      0.0    187.0    0.0      3.5   \n",
       "4  41.0  0.0  2.0     130.0  204.0  0.0      2.0    172.0    0.0      1.4   \n",
       "\n",
       "   slope   ca  thal  num  \n",
       "0    3.0  0.0   6.0    0  \n",
       "1    2.0  3.0   3.0    1  \n",
       "2    2.0  2.0   7.0    1  \n",
       "3    3.0  0.0   3.0    0  \n",
       "4    1.0  0.0   3.0    0  "
      ]
     },
     "execution_count": 143,
     "metadata": {},
     "output_type": "execute_result"
    }
   ],
   "source": [
    "df_model.head()"
   ]
  },
  {
   "cell_type": "code",
   "execution_count": 144,
   "metadata": {
    "colab": {
     "base_uri": "https://localhost:8080/",
     "height": 204
    },
    "colab_type": "code",
    "id": "4vNXGC40nSkt",
    "outputId": "8bbfe418-0430-4aa1-b827-869976f010bb"
   },
   "outputs": [
    {
     "data": {
      "text/html": [
       "<div>\n",
       "<style scoped>\n",
       "    .dataframe tbody tr th:only-of-type {\n",
       "        vertical-align: middle;\n",
       "    }\n",
       "\n",
       "    .dataframe tbody tr th {\n",
       "        vertical-align: top;\n",
       "    }\n",
       "\n",
       "    .dataframe thead th {\n",
       "        text-align: right;\n",
       "    }\n",
       "</style>\n",
       "<table border=\"1\" class=\"dataframe\">\n",
       "  <thead>\n",
       "    <tr style=\"text-align: right;\">\n",
       "      <th></th>\n",
       "      <th>age</th>\n",
       "      <th>sex</th>\n",
       "      <th>cp</th>\n",
       "      <th>trestbps</th>\n",
       "      <th>chol</th>\n",
       "      <th>fbs</th>\n",
       "      <th>restecg</th>\n",
       "      <th>thalach</th>\n",
       "      <th>exang</th>\n",
       "      <th>oldpeak</th>\n",
       "      <th>slope</th>\n",
       "      <th>ca</th>\n",
       "      <th>thal</th>\n",
       "      <th>num</th>\n",
       "    </tr>\n",
       "  </thead>\n",
       "  <tbody>\n",
       "    <tr>\n",
       "      <th>0</th>\n",
       "      <td>44.0</td>\n",
       "      <td>1.0</td>\n",
       "      <td>4.0</td>\n",
       "      <td>120.0</td>\n",
       "      <td>169.0</td>\n",
       "      <td>0.0</td>\n",
       "      <td>0.0</td>\n",
       "      <td>144.0</td>\n",
       "      <td>1.0</td>\n",
       "      <td>2.8</td>\n",
       "      <td>3.0</td>\n",
       "      <td>0.0</td>\n",
       "      <td>6.0</td>\n",
       "      <td>1</td>\n",
       "    </tr>\n",
       "    <tr>\n",
       "      <th>1</th>\n",
       "      <td>63.0</td>\n",
       "      <td>1.0</td>\n",
       "      <td>4.0</td>\n",
       "      <td>140.0</td>\n",
       "      <td>187.0</td>\n",
       "      <td>0.0</td>\n",
       "      <td>2.0</td>\n",
       "      <td>144.0</td>\n",
       "      <td>1.0</td>\n",
       "      <td>4.0</td>\n",
       "      <td>1.0</td>\n",
       "      <td>2.0</td>\n",
       "      <td>7.0</td>\n",
       "      <td>1</td>\n",
       "    </tr>\n",
       "    <tr>\n",
       "      <th>2</th>\n",
       "      <td>63.0</td>\n",
       "      <td>0.0</td>\n",
       "      <td>4.0</td>\n",
       "      <td>124.0</td>\n",
       "      <td>197.0</td>\n",
       "      <td>0.0</td>\n",
       "      <td>0.0</td>\n",
       "      <td>136.0</td>\n",
       "      <td>1.0</td>\n",
       "      <td>0.0</td>\n",
       "      <td>2.0</td>\n",
       "      <td>0.0</td>\n",
       "      <td>3.0</td>\n",
       "      <td>1</td>\n",
       "    </tr>\n",
       "    <tr>\n",
       "      <th>3</th>\n",
       "      <td>41.0</td>\n",
       "      <td>1.0</td>\n",
       "      <td>2.0</td>\n",
       "      <td>120.0</td>\n",
       "      <td>157.0</td>\n",
       "      <td>0.0</td>\n",
       "      <td>0.0</td>\n",
       "      <td>182.0</td>\n",
       "      <td>0.0</td>\n",
       "      <td>0.0</td>\n",
       "      <td>1.0</td>\n",
       "      <td>0.0</td>\n",
       "      <td>3.0</td>\n",
       "      <td>0</td>\n",
       "    </tr>\n",
       "    <tr>\n",
       "      <th>4</th>\n",
       "      <td>59.0</td>\n",
       "      <td>1.0</td>\n",
       "      <td>4.0</td>\n",
       "      <td>164.0</td>\n",
       "      <td>176.0</td>\n",
       "      <td>1.0</td>\n",
       "      <td>2.0</td>\n",
       "      <td>90.0</td>\n",
       "      <td>0.0</td>\n",
       "      <td>1.0</td>\n",
       "      <td>2.0</td>\n",
       "      <td>2.0</td>\n",
       "      <td>6.0</td>\n",
       "      <td>1</td>\n",
       "    </tr>\n",
       "  </tbody>\n",
       "</table>\n",
       "</div>"
      ],
      "text/plain": [
       "    age  sex   cp  trestbps   chol  fbs  restecg  thalach  exang  oldpeak  \\\n",
       "0  44.0  1.0  4.0     120.0  169.0  0.0      0.0    144.0    1.0      2.8   \n",
       "1  63.0  1.0  4.0     140.0  187.0  0.0      2.0    144.0    1.0      4.0   \n",
       "2  63.0  0.0  4.0     124.0  197.0  0.0      0.0    136.0    1.0      0.0   \n",
       "3  41.0  1.0  2.0     120.0  157.0  0.0      0.0    182.0    0.0      0.0   \n",
       "4  59.0  1.0  4.0     164.0  176.0  1.0      2.0     90.0    0.0      1.0   \n",
       "\n",
       "   slope   ca  thal  num  \n",
       "0    3.0  0.0   6.0    1  \n",
       "1    1.0  2.0   7.0    1  \n",
       "2    2.0  0.0   3.0    1  \n",
       "3    1.0  0.0   3.0    0  \n",
       "4    2.0  2.0   6.0    1  "
      ]
     },
     "execution_count": 144,
     "metadata": {},
     "output_type": "execute_result"
    }
   ],
   "source": [
    "df_aux.head()"
   ]
  },
  {
   "cell_type": "code",
   "execution_count": 145,
   "metadata": {
    "colab": {
     "base_uri": "https://localhost:8080/",
     "height": 51
    },
    "colab_type": "code",
    "id": "7CqK7-PBnakx",
    "outputId": "3109bd9d-21a9-4cc1-ecb8-5c803951c2fd"
   },
   "outputs": [
    {
     "name": "stdout",
     "output_type": "stream",
     "text": [
      "Proporção de pacientes diagnosticados como não tendo doença cardíaca:\t 55.40%\n",
      "Proporção de pacientes diagnosticados como tendo doença cardíaca:\t 44.60%\n"
     ]
    }
   ],
   "source": [
    "print('Proporção de pacientes diagnosticados como não tendo doença cardíaca:\\t {:.2f}%'.format(((df_model['num'].value_counts()[0]/df_model.shape[0])*100).round(2)))\n",
    "print('Proporção de pacientes diagnosticados como tendo doença cardíaca:\\t {:.2f}%'.format(((df_model['num'].value_counts()[1]/df_model.shape[0])*100).round(2)))"
   ]
  },
  {
   "cell_type": "markdown",
   "metadata": {
    "colab_type": "text",
    "id": "iqcXjx5BndSY"
   },
   "source": [
    "### Erros"
   ]
  },
  {
   "cell_type": "code",
   "execution_count": 146,
   "metadata": {
    "colab": {
     "base_uri": "https://localhost:8080/",
     "height": 34
    },
    "colab_type": "code",
    "id": "2m191LbtnoCn",
    "outputId": "659ba0cc-5d78-4455-c24d-fece14d14278"
   },
   "outputs": [
    {
     "name": "stdout",
     "output_type": "stream",
     "text": [
      "O dataset de treino possui 229 pacientes e o de treino 58 pacientes.\n"
     ]
    }
   ],
   "source": [
    "from sklearn.model_selection import train_test_split\n",
    "\n",
    "X = df_model.drop('num', axis = 1)\n",
    "y = df_model['num']\n",
    "\n",
    "SEED = 42\n",
    "\n",
    "##SEED = 42\n",
    "## O dataset de treino possui 229 pacientes e o de treino 58 pacientes.\n",
    "##A acurácia foi de 79.31%.\n",
    "\n",
    "np.random.seed(SEED)\n",
    "\n",
    "## 20 ## X_train, X_test, y_train, y_test = train_test_split(X, y, test_size = 0.20)\n",
    "\n",
    "X_train, X_test, y_train, y_test = train_test_split(X, y, test_size = 0.20)\n",
    "\n",
    "print('O dataset de treino possui {} pacientes e o de treino {} pacientes.'.format(X_train.shape[0], X_test.shape[0]))"
   ]
  },
  {
   "cell_type": "code",
   "execution_count": 147,
   "metadata": {
    "colab": {
     "base_uri": "https://localhost:8080/",
     "height": 34
    },
    "colab_type": "code",
    "id": "wcbtotmknwbX",
    "outputId": "bd5f2e06-7898-447d-b507-611cc1f2a21a"
   },
   "outputs": [
    {
     "name": "stdout",
     "output_type": "stream",
     "text": [
      "Conjunto de Treino seed 42.\n",
      "A acurácia foi de 79.31%.\n"
     ]
    }
   ],
   "source": [
    "from sklearn.tree import DecisionTreeClassifier\n",
    "from sklearn.metrics import accuracy_score\n",
    "\n",
    "# Profundidade max_depth=2\n",
    "model = DecisionTreeClassifier(max_depth=2)\n",
    "model.fit(X_train, y_train)\n",
    "predict = model.predict(X_test)\n",
    "\n",
    "accuracy = accuracy_score(y_test, predict) * 100\n",
    "print(\"Conjunto de Treino seed {:2}.\".format(SEED))\n",
    "print (\"A acurácia foi de {:.2f}%.\".format(accuracy))"
   ]
  },
  {
   "cell_type": "code",
   "execution_count": 148,
   "metadata": {
    "colab": {
     "base_uri": "https://localhost:8080/",
     "height": 34
    },
    "colab_type": "code",
    "id": "1AC9HG6Vn1G7",
    "outputId": "a07bd55e-5cdf-499d-ce22-0684b8c0ee63"
   },
   "outputs": [
    {
     "name": "stdout",
     "output_type": "stream",
     "text": [
      "Conjunto de Teste seed 42.\n",
      "A acurácia foi de 82.76%.\n"
     ]
    }
   ],
   "source": [
    "# Profundidade max_depth=3\n",
    "model = DecisionTreeClassifier(max_depth=3)\n",
    "model.fit(X_train, y_train)\n",
    "predict = model.predict(X_test)\n",
    "\n",
    "accuracy = accuracy_score(y_test, predict) * 100\n",
    "print(\"Conjunto de Teste seed {:2}.\".format(SEED))\n",
    "print (\"A acurácia foi de {:.2f}%.\".format(accuracy))"
   ]
  },
  {
   "cell_type": "code",
   "execution_count": 149,
   "metadata": {
    "colab": {
     "base_uri": "https://localhost:8080/",
     "height": 34
    },
    "colab_type": "code",
    "id": "kvGLB4xpn4Bj",
    "outputId": "9b97b840-4f00-451a-e6b8-6d5d615f6ebe"
   },
   "outputs": [
    {
     "name": "stdout",
     "output_type": "stream",
     "text": [
      "A acurácia foi de 60.00%.\n"
     ]
    }
   ],
   "source": [
    "X_news = df_aux.drop('num', axis = 1)\n",
    "y_news = df_aux['num']\n",
    "\n",
    "predict = model.predict(X_news)\n",
    "\n",
    "accuracy = accuracy_score(y_news, predict) * 100\n",
    "print (\"A acurácia foi de {:.2f}%.\".format(accuracy))"
   ]
  },
  {
   "cell_type": "markdown",
   "metadata": {
    "colab_type": "text",
    "id": "MG7yxaApoF6w"
   },
   "source": [
    "### Primeiro passo"
   ]
  },
  {
   "cell_type": "code",
   "execution_count": 150,
   "metadata": {
    "colab": {
     "base_uri": "https://localhost:8080/",
     "height": 34
    },
    "colab_type": "code",
    "id": "uxqhYWpboKkX",
    "outputId": "8fb08016-297c-4182-853a-cd7a991d6b8d"
   },
   "outputs": [
    {
     "name": "stdout",
     "output_type": "stream",
     "text": [
      "O dataset de treino possui 237 pacientes e o de treino 60 pacientes.\n"
     ]
    }
   ],
   "source": [
    "# divisao entre treino e teste do dataframe original\n",
    "from sklearn.model_selection import train_test_split\n",
    "\n",
    "SEED = 23\n",
    "np.random.seed(SEED)\n",
    "\n",
    "# DataFrame X recebe todos os atributos, excluindo 'num'\n",
    "X = df.drop('num', axis = 1)\n",
    "# Series y recebe somente o atributo 'num'\n",
    "y = df['num']\n",
    "\n",
    "# Separar em dados de Treino e Test\n",
    "X_train, X_test, y_train, y_test = train_test_split(X, y, test_size = 0.20, stratify = y)\n",
    "\n",
    "print('O dataset de treino possui {} pacientes e o de treino {} pacientes.'.format(X_train.shape[0], X_test.shape[0]))"
   ]
  },
  {
   "cell_type": "markdown",
   "metadata": {
    "colab_type": "text",
    "id": "-hi7wRnzo1VW"
   },
   "source": [
    "### Segundo passo"
   ]
  },
  {
   "cell_type": "code",
   "execution_count": 151,
   "metadata": {
    "colab": {
     "base_uri": "https://localhost:8080/",
     "height": 51
    },
    "colab_type": "code",
    "id": "B0sKSGNqo5UL",
    "outputId": "8eb54bef-41b9-4a38-d138-0533aa1b12da"
   },
   "outputs": [
    {
     "name": "stdout",
     "output_type": "stream",
     "text": [
      "        Desvio Padrão:   3.5129516902798503\n",
      "     2x Desvio Padrão:   7.025903380559701\n",
      "       Acurácia média:  74.68%\n",
      "Intervalo de acurácia: [Acurácia Média - 2x DV ~ Acurácia Média + 2x DV]\n",
      "Intervalo de acurácia: [67.65% ~ 81.70%]\n"
     ]
    }
   ],
   "source": [
    "\"\"\"\n",
    "    Para fazer a validação cruzada vamos utilizar a função cross_val_score, que faz todo esse processo\n",
    "de forma automatizada.\n",
    "\"\"\"\n",
    "from sklearn.model_selection import cross_val_score\n",
    "\n",
    "SEED = 42\n",
    "np.random.seed(SEED)\n",
    "\n",
    "model = DecisionTreeClassifier(max_depth=3)\n",
    "## Cross Validation = 5\n",
    "results = cross_val_score(model, X_train, y_train, cv = 5, scoring = 'accuracy')\n",
    "\n",
    "\n",
    "def intervalo(results):\n",
    "  mean = results.mean()\n",
    "  dv = results.std()\n",
    "  #\n",
    "  print('        Desvio Padrão:  ',(dv)*100)\n",
    "  print('     2x Desvio Padrão:  ',(2*dv)*100)\n",
    "  print('       Acurácia média:  {:.2f}%'.format(mean*100))\n",
    "  print('Intervalo de acurácia: [Acurácia Média - 2x DV ~ Acurácia Média + 2x DV]')\n",
    "  print('Intervalo de acurácia: [{:.2f}% ~ {:.2f}%]'.format((mean - 2*dv)*100, (mean + 2*dv)*100))\n",
    "\n",
    "intervalo(results)"
   ]
  },
  {
   "cell_type": "code",
   "execution_count": 152,
   "metadata": {
    "colab": {
     "base_uri": "https://localhost:8080/",
     "height": 51
    },
    "colab_type": "code",
    "id": "1hlVnPbCo8J1",
    "outputId": "447fe912-8b72-4e4b-a1d6-579ef31088a6"
   },
   "outputs": [
    {
     "name": "stdout",
     "output_type": "stream",
     "text": [
      "        Desvio Padrão:   5.0354609929078\n",
      "     2x Desvio Padrão:   10.0709219858156\n",
      "       Acurácia média:  72.57%\n",
      "Intervalo de acurácia: [Acurácia Média - 2x DV ~ Acurácia Média + 2x DV]\n",
      "Intervalo de acurácia: [62.50% ~ 82.64%]\n"
     ]
    }
   ],
   "source": [
    "\"\"\"\n",
    "    No caso, podemos usar a função KFold, que além de separar os dados em folds, faz essa \"mistura\" ao passar \n",
    "o parâmetro shuffle igual a True.\n",
    "\"\"\"\n",
    "from sklearn.model_selection import KFold\n",
    "\n",
    "np.random.seed(SEED)\n",
    "\n",
    "cv = KFold(n_splits = 5, shuffle = True)\n",
    "\n",
    "model = DecisionTreeClassifier(max_depth=3)\n",
    "results = cross_val_score(model, X_train, y_train, cv = cv)\n",
    "intervalo(results)"
   ]
  },
  {
   "cell_type": "code",
   "execution_count": 153,
   "metadata": {},
   "outputs": [
    {
     "data": {
      "text/plain": [
       "KFold(n_splits=5, random_state=None, shuffle=True)"
      ]
     },
     "execution_count": 153,
     "metadata": {},
     "output_type": "execute_result"
    }
   ],
   "source": [
    "cv"
   ]
  },
  {
   "cell_type": "code",
   "execution_count": 154,
   "metadata": {
    "colab": {
     "base_uri": "https://localhost:8080/",
     "height": 51
    },
    "colab_type": "code",
    "id": "OkzhuRvmpExv",
    "outputId": "16cc004a-3791-4d41-ce0d-b1f6d7cddc50"
   },
   "outputs": [
    {
     "name": "stdout",
     "output_type": "stream",
     "text": [
      "        Desvio Padrão:   3.4412066321526713\n",
      "     2x Desvio Padrão:   6.882413264305343\n",
      "       Acurácia média:  80.13%\n",
      "Intervalo de acurácia: [Acurácia Média - 2x DV ~ Acurácia Média + 2x DV]\n",
      "Intervalo de acurácia: [73.25% ~ 87.01%]\n"
     ]
    }
   ],
   "source": [
    "\"\"\"\n",
    "    O StratifiedKFold é ainda mais importante quando os dados estão muito desbalanceados, ou seja, \n",
    "quando uma categoria é muito mais comum que a outra.\n",
    "\"\"\"\n",
    "from sklearn.model_selection import StratifiedKFold\n",
    "\n",
    "np.random.seed(SEED)\n",
    "\n",
    "cv = StratifiedKFold(n_splits = 5, shuffle = True)\n",
    "\n",
    "model = DecisionTreeClassifier(max_depth=3)\n",
    "results = cross_val_score(model, X_train, y_train, cv = cv)\n",
    "intervalo(results)"
   ]
  },
  {
   "cell_type": "markdown",
   "metadata": {
    "colab_type": "text",
    "id": "qBvXieo9pK5m"
   },
   "source": [
    "### Terceiro passo"
   ]
  },
  {
   "cell_type": "markdown",
   "metadata": {
    "colab_type": "text",
    "id": "auEvzZa_pQXA"
   },
   "source": [
    "#### Hiperparâmetros"
   ]
  },
  {
   "cell_type": "code",
   "execution_count": 155,
   "metadata": {
    "colab": {
     "base_uri": "https://localhost:8080/",
     "height": 170
    },
    "colab_type": "code",
    "id": "9I0Z65_ppS8n",
    "outputId": "e2beae73-5810-4c03-cb44-04b3b4241cae"
   },
   "outputs": [
    {
     "name": "stdout",
     "output_type": "stream",
     "text": [
      "Acurácia média - Max Depth 3: 80.13%\n",
      "Intervalo de acurácia - Max Depth 3: [73.25% ~ 87.01%]\n",
      "\n",
      "Acurácia média - Max Depth 2: 71.70%\n",
      "Intervalo de acurácia - Max Depth 2: [57.10% ~ 86.30%]\n",
      "\n",
      "Acurácia média - Max Depth 4: 73.33%\n",
      "Intervalo de acurácia - Max Depth 4: [56.80% ~ 89.87%]\n",
      "\n"
     ]
    }
   ],
   "source": [
    "max_depth = [3, 2, 4]\n",
    "\n",
    "for item in max_depth:\n",
    "  np.random.seed(SEED)\n",
    "  cv = StratifiedKFold(n_splits = 5, shuffle = True)\n",
    "  model = DecisionTreeClassifier(max_depth=item)\n",
    "  results = cross_val_score(model, X_train, y_train, cv = cv, scoring = 'accuracy')\n",
    "  mean = results.mean()\n",
    "  dv = results.std()\n",
    "  print('Acurácia média - Max Depth {}: {:.2f}%'.format(item, mean*100))\n",
    "  print('Intervalo de acurácia - Max Depth {}: [{:.2f}% ~ {:.2f}%]\\n'.format(item, (mean - 2*dv)*100, (mean + 2*dv)*100))"
   ]
  },
  {
   "cell_type": "markdown",
   "metadata": {
    "colab_type": "text",
    "id": "4WLs4perpW4U"
   },
   "source": [
    "#### Modelos"
   ]
  },
  {
   "cell_type": "code",
   "execution_count": 183,
   "metadata": {
    "colab": {
     "base_uri": "https://localhost:8080/",
     "height": 221
    },
    "colab_type": "code",
    "id": "VCXjaiuIsvKT",
    "outputId": "25544bf0-90f7-49ad-840d-b9fe0ec2ad45",
    "scrolled": true
   },
   "outputs": [
    {
     "name": "stdout",
     "output_type": "stream",
     "text": [
      "Acurácia média - Modelo Árvore de Decisão: 80.13%\n",
      "Intervalo de acurácia - Modelo Árvore de Decisão: [73.25% ~ 87.01%]\n",
      "\n",
      "Acurácia média - Modelo SVC: 54.84%\n",
      "Intervalo de acurácia - Modelo SVC: [52.41% ~ 57.27%]\n",
      "\n",
      "Acurácia média - Modelo Regressão Logística: 83.50%\n",
      "Intervalo de acurácia - Modelo Regressão Logística: [77.93% ~ 89.07%]\n",
      "\n",
      "Acurácia média - Modelo Random Forest: 83.92%\n",
      "Intervalo de acurácia - Modelo Random Forest: [74.41% ~ 93.44%]\n",
      "\n"
     ]
    }
   ],
   "source": [
    "from sklearn.svm import SVC\n",
    "from sklearn.linear_model import LogisticRegression\n",
    "from sklearn.ensemble import RandomForestClassifier\n",
    "\n",
    "np.random.seed(SEED)\n",
    "\n",
    "cv = StratifiedKFold(n_splits = 5, shuffle = True)\n",
    "\n",
    "model = DecisionTreeClassifier(max_depth=3)\n",
    "model_svc = SVC()\n",
    "model_log = LogisticRegression(solver='liblinear')\n",
    "model_rand = RandomForestClassifier(n_estimators=100)\n",
    "\n",
    "models = [model, model_svc, model_log, model_rand]\n",
    "name = ['Árvore de Decisão', 'SVC', 'Regressão Logística', 'Random Forest']\n",
    "\n",
    "count = 0\n",
    "for item in models:\n",
    "  np.random.seed(SEED)\n",
    "  results = cross_val_score(item, X_train, y_train, cv = cv, scoring = 'accuracy')\n",
    "  mean = results.mean()\n",
    "  dv = results.std()\n",
    "  print('Acurácia média - Modelo {}: {:.2f}%'.format(name[count], mean*100))\n",
    "  print('Intervalo de acurácia - Modelo {}: [{:.2f}% ~ {:.2f}%]\\n'.format(name[count], (mean - 2*dv)*100, (mean + 2*dv)*100))\n",
    "  count += 1"
   ]
  },
  {
   "cell_type": "markdown",
   "metadata": {
    "colab_type": "text",
    "id": "3PnNACZnp9v_"
   },
   "source": [
    "### Quarto passo"
   ]
  },
  {
   "cell_type": "markdown",
   "metadata": {
    "colab_type": "text",
    "id": "HyLVHydfqfZP"
   },
   "source": [
    "#### Métrica Precisão"
   ]
  },
  {
   "cell_type": "code",
   "execution_count": 157,
   "metadata": {
    "colab": {
     "base_uri": "https://localhost:8080/",
     "height": 51
    },
    "colab_type": "code",
    "id": "Z5rpLrIHqROi",
    "outputId": "6e63eded-5463-4c2c-ad77-52d8c5d7f2c0"
   },
   "outputs": [
    {
     "name": "stdout",
     "output_type": "stream",
     "text": [
      "Precisão média: 82.76%\n",
      "Intervalo de Precisão: [74.30% ~ 91.22%]\n"
     ]
    }
   ],
   "source": [
    "def intervalo_prec(results):\n",
    "  mean = results.mean()\n",
    "  dv = results.std()\n",
    "  print('Precisão média: {:.2f}%'.format(mean*100))\n",
    "  print('Intervalo de Precisão: [{:.2f}% ~ {:.2f}%]'.format((mean - 2*dv)*100, (mean + 2*dv)*100))\n",
    "\n",
    "np.random.seed(SEED)\n",
    "\n",
    "cv = StratifiedKFold(n_splits = 5, shuffle = True)\n",
    "\n",
    "model = LogisticRegression(solver='liblinear')\n",
    "results = cross_val_score(model, X_train, y_train, cv = cv, scoring = 'precision')\n",
    "intervalo_prec(results)"
   ]
  },
  {
   "cell_type": "markdown",
   "metadata": {
    "colab_type": "text",
    "id": "o8NQXb8vqU_X"
   },
   "source": [
    "#### Métrica Recall"
   ]
  },
  {
   "cell_type": "code",
   "execution_count": 158,
   "metadata": {
    "colab": {
     "base_uri": "https://localhost:8080/",
     "height": 51
    },
    "colab_type": "code",
    "id": "qqAETVuDqlGa",
    "outputId": "6168dc75-5f94-4f90-b2d3-0b836472a9f1"
   },
   "outputs": [
    {
     "name": "stdout",
     "output_type": "stream",
     "text": [
      "Recall médio: 81.56%\n",
      "Intervalo de Recall: [64.69% ~ 98.42%]\n"
     ]
    }
   ],
   "source": [
    "def intervalo_recall(results):\n",
    "  mean = results.mean()\n",
    "  dv = results.std()\n",
    "  print('Recall médio: {:.2f}%'.format(mean*100))\n",
    "  print('Intervalo de Recall: [{:.2f}% ~ {:.2f}%]'.format((mean - 2*dv)*100, (mean + 2*dv)*100))\n",
    "\n",
    "np.random.seed(SEED)\n",
    "\n",
    "cv = StratifiedKFold(n_splits = 5, shuffle = True)\n",
    "\n",
    "model = LogisticRegression(solver='liblinear')\n",
    "results = cross_val_score(model, X_train, y_train, cv = cv, scoring = 'recall')\n",
    "intervalo_recall(results)"
   ]
  },
  {
   "cell_type": "markdown",
   "metadata": {
    "colab_type": "text",
    "id": "n8PHilkGqoUW"
   },
   "source": [
    "#### Trade-off: precisão x recall"
   ]
  },
  {
   "cell_type": "code",
   "execution_count": 159,
   "metadata": {
    "colab": {
     "base_uri": "https://localhost:8080/",
     "height": 247
    },
    "colab_type": "code",
    "id": "q2gUnsXHtEhX",
    "outputId": "bc881fe8-2efa-41da-b528-a395cbd91282"
   },
   "outputs": [
    {
     "data": {
      "image/png": "[encoded data removed]",
      "text/plain": [
       "<Figure size 864x216 with 1 Axes>"
      ]
     },
     "metadata": {},
     "output_type": "display_data"
    }
   ],
   "source": [
    "from sklearn.model_selection import cross_val_predict\n",
    "from sklearn.metrics import precision_recall_curve\n",
    "\n",
    "np.random.seed(SEED)\n",
    "\n",
    "cv = StratifiedKFold(n_splits = 5, shuffle = True)\n",
    "\n",
    "model = LogisticRegression(solver='liblinear')\n",
    "y_scores = cross_val_predict(model, X_train, y_train, cv = cv, method = 'decision_function')\n",
    "\n",
    "precisions, recalls, thresholds = precision_recall_curve(y_train, y_scores)\n",
    "\n",
    "fig, ax = plt.subplots(figsize = (12,3))\n",
    "\n",
    "plt.plot(thresholds, precisions[:-1], 'b--', label = 'Precisão')\n",
    "plt.plot(thresholds, recalls[:-1], 'g-', label = 'Recall')\n",
    "plt.xlabel('Threshold')\n",
    "plt.legend(loc = 'center right')\n",
    "plt.ylim([0,1])\n",
    "plt.title('Precisão x Recall', fontsize = 14)\n",
    "\n",
    "plt.show()"
   ]
  },
  {
   "cell_type": "code",
   "execution_count": 160,
   "metadata": {
    "colab": {
     "base_uri": "https://localhost:8080/",
     "height": 51
    },
    "colab_type": "code",
    "id": "MycYHzt7tIVa",
    "outputId": "3e2d48d7-2974-4f35-8a14-03f5c9e313a5"
   },
   "outputs": [
    {
     "name": "stdout",
     "output_type": "stream",
     "text": [
      "Nova precisão: 0.6059\n",
      "Novo recall: 0.9450\n"
     ]
    }
   ],
   "source": [
    "from sklearn.metrics import precision_score, recall_score\n",
    "\n",
    "y_train_pred_recall_90 = (y_scores > -2)\n",
    "\n",
    "print('Nova precisão: {:.4f}'.format(precision_score(y_train,y_train_pred_recall_90)))\n",
    "print('Novo recall: {:.4f}'.format(recall_score(y_train,y_train_pred_recall_90)))"
   ]
  },
  {
   "cell_type": "markdown",
   "metadata": {
    "colab_type": "text",
    "id": "IgWc5Zoatiyv"
   },
   "source": [
    "#### Matriz de confusão e relatório de classificação"
   ]
  },
  {
   "cell_type": "code",
   "execution_count": 161,
   "metadata": {
    "colab": {
     "base_uri": "https://localhost:8080/",
     "height": 293
    },
    "colab_type": "code",
    "id": "QNd0KxX0to0o",
    "outputId": "a37e7477-5d1d-46e2-d484-2fef4173687f"
   },
   "outputs": [
    {
     "data": {
      "image/png": "[encoded data removed]",
      "text/plain": [
       "<Figure size 432x288 with 2 Axes>"
      ]
     },
     "metadata": {},
     "output_type": "display_data"
    }
   ],
   "source": [
    "from sklearn.model_selection import cross_val_predict\n",
    "from sklearn.metrics import confusion_matrix\n",
    "\n",
    "np.random.seed(SEED)\n",
    "\n",
    "cv = StratifiedKFold(n_splits = 5, shuffle = True)\n",
    "\n",
    "model = LogisticRegression(solver='liblinear')\n",
    "y_pred = cross_val_predict(model, X_train, y_train, cv = cv)\n",
    "\n",
    "fig, ax = plt.subplots()\n",
    "sns.heatmap(confusion_matrix(y_train, y_pred), annot=True, ax=ax, fmt='d', cmap='Reds')\n",
    "\n",
    "ax.set_title(\"Matriz de Confusão\", fontsize=18)\n",
    "ax.set_ylabel(\"True label\")\n",
    "ax.set_xlabel(\"Predicted Label\")\n",
    "\n",
    "plt.tight_layout()\n"
   ]
  },
  {
   "cell_type": "code",
   "execution_count": 162,
   "metadata": {
    "colab": {
     "base_uri": "https://localhost:8080/",
     "height": 187
    },
    "colab_type": "code",
    "id": "FTX3GSKItrkE",
    "outputId": "da92350e-0b24-4076-89d7-e77c7e7cfba6"
   },
   "outputs": [
    {
     "name": "stdout",
     "output_type": "stream",
     "text": [
      "Relatório de classificação:\n",
      "               precision    recall  f1-score   support\n",
      "\n",
      "           0     0.8450    0.8516    0.8482       128\n",
      "           1     0.8241    0.8165    0.8203       109\n",
      "\n",
      "   micro avg     0.8354    0.8354    0.8354       237\n",
      "   macro avg     0.8345    0.8340    0.8343       237\n",
      "weighted avg     0.8354    0.8354    0.8354       237\n",
      "\n"
     ]
    }
   ],
   "source": [
    "from sklearn.metrics import classification_report\n",
    "\n",
    "# relatório do modelo\n",
    "print('Relatório de classificação:\\n', classification_report(y_train, y_pred, digits=4))"
   ]
  },
  {
   "cell_type": "markdown",
   "metadata": {
    "colab_type": "text",
    "id": "uzI_xEFNtwIv"
   },
   "source": [
    "#### Curva ROC"
   ]
  },
  {
   "cell_type": "code",
   "execution_count": 163,
   "metadata": {
    "colab": {
     "base_uri": "https://localhost:8080/",
     "height": 302
    },
    "colab_type": "code",
    "id": "FLF7lg-wt09T",
    "outputId": "a44379c8-e6d2-4888-e7df-a145f769a24b"
   },
   "outputs": [
    {
     "data": {
      "image/png": "[encoded data removed]",
      "text/plain": [
       "<Figure size 864x288 with 1 Axes>"
      ]
     },
     "metadata": {},
     "output_type": "display_data"
    }
   ],
   "source": [
    "from sklearn.metrics import roc_curve\n",
    "\n",
    "fpr, tpr, thresholds = roc_curve(y_train, y_scores)\n",
    "\n",
    "fig, ax = plt.subplots(figsize = (12,4))\n",
    "\n",
    "plt.plot(fpr, tpr, linewidth=2, label = 'Logistic Regression')\n",
    "plt.plot([0,1], [0,1], 'k--')\n",
    "plt.axis([0, 1, 0, 1])\n",
    "plt.xlabel('Taxa de Falsos Positivos')\n",
    "plt.ylabel('Taxa de Verdadeiros Positivos')\n",
    "plt.legend(loc = 'lower right')\n",
    "plt.title('Curva ROC', fontsize = 14)\n",
    "\n",
    "plt.show()"
   ]
  },
  {
   "cell_type": "code",
   "execution_count": 164,
   "metadata": {
    "colab": {
     "base_uri": "https://localhost:8080/",
     "height": 34
    },
    "colab_type": "code",
    "id": "AR3_VauTt8YC",
    "outputId": "f32ddb6b-2dd8-494a-d14a-72ce9d157e05"
   },
   "outputs": [
    {
     "name": "stdout",
     "output_type": "stream",
     "text": [
      "Área sob a curva ROC: 0.9032\n"
     ]
    }
   ],
   "source": [
    "from sklearn.metrics import roc_auc_score\n",
    "print('Área sob a curva ROC: {:.4f}'.format(roc_auc_score(y_train, y_scores)))"
   ]
  },
  {
   "cell_type": "code",
   "execution_count": 165,
   "metadata": {
    "colab": {
     "base_uri": "https://localhost:8080/",
     "height": 336
    },
    "colab_type": "code",
    "id": "HwEJRa_Ot-5Y",
    "outputId": "3364b5d0-afc0-4852-b4c9-389104ae851f"
   },
   "outputs": [
    {
     "data": {
      "image/png": "[encoded data removed]",
      "text/plain": [
       "<Figure size 864x288 with 1 Axes>"
      ]
     },
     "metadata": {},
     "output_type": "display_data"
    },
    {
     "name": "stdout",
     "output_type": "stream",
     "text": [
      "Área sob a curva ROC - Logistic Regression: 0.9032\n",
      "Área sob a curva ROC - Random Forest: 0.8853\n"
     ]
    }
   ],
   "source": [
    "np.random.seed(SEED)\n",
    "\n",
    "cv = StratifiedKFold(n_splits = 5, shuffle = True)\n",
    "\n",
    "model_rf = RandomForestClassifier(n_estimators=100)\n",
    "y_prob_forest = cross_val_predict(model_rf, X_train, y_train, cv = cv, method = 'predict_proba')\n",
    "\n",
    "y_scores_forest = y_prob_forest[:,1]\n",
    "fpr_forest, tpr_forest, thresholds_forest = roc_curve(y_train, y_scores_forest)\n",
    "\n",
    "fig, ax = plt.subplots(figsize = (12,4))\n",
    "\n",
    "plt.plot(fpr, tpr, linewidth=2, label = 'Logistic Regression')\n",
    "plt.plot(fpr_forest, tpr_forest, linewidth=2, label = 'Random Forest')\n",
    "plt.plot([0,1], [0,1], 'k--')\n",
    "plt.axis([0, 1, 0, 1])\n",
    "plt.xlabel('Taxa de Falsos Positivos')\n",
    "plt.ylabel('Taxa de Verdadeiros Positivos')\n",
    "plt.legend(loc = 'lower right')\n",
    "plt.title('Curva ROC', fontsize = 14)\n",
    "\n",
    "plt.show()\n",
    "\n",
    "print('Área sob a curva ROC - Logistic Regression: {:.4f}'.format(roc_auc_score(y_train, y_scores)))\n",
    "print('Área sob a curva ROC - Random Forest: {:.4f}'.format(roc_auc_score(y_train, y_scores_forest)))"
   ]
  },
  {
   "cell_type": "markdown",
   "metadata": {
    "colab_type": "text",
    "id": "t0kqA9JEuDHy"
   },
   "source": [
    "### Quinto passo"
   ]
  },
  {
   "cell_type": "markdown",
   "metadata": {
    "colab_type": "text",
    "id": "6_hCYg_OuMDj"
   },
   "source": [
    "### Sexto passo"
   ]
  },
  {
   "cell_type": "code",
   "execution_count": 166,
   "metadata": {
    "colab": {
     "base_uri": "https://localhost:8080/",
     "height": 221
    },
    "colab_type": "code",
    "id": "OPzb24FsuQwA",
    "outputId": "7eecc795-1f83-4810-c410-814a52f6aad3"
   },
   "outputs": [
    {
     "name": "stdout",
     "output_type": "stream",
     "text": [
      "Relatório de Classificação:\n",
      "               precision    recall  f1-score   support\n",
      "\n",
      "           0     0.7561    0.9688    0.8493        32\n",
      "           1     0.9474    0.6429    0.7660        28\n",
      "\n",
      "   micro avg     0.8167    0.8167    0.8167        60\n",
      "   macro avg     0.8517    0.8058    0.8076        60\n",
      "weighted avg     0.8454    0.8167    0.8104        60\n",
      "\n",
      "AUC: 0.8862\n",
      "\n"
     ]
    }
   ],
   "source": [
    "np.random.seed(SEED)\n",
    "\n",
    "final_model = LogisticRegression(solver='liblinear')\n",
    "final_model.fit(X_train, y_train)\n",
    "\n",
    "y_pred = final_model.predict(X_test)\n",
    "y_prob = final_model.predict_proba(X_test)\n",
    "\n",
    "# imprimir relatório de classificação\n",
    "print(\"Relatório de Classificação:\\n\", classification_report(y_test, y_pred, digits=4))\n",
    " \n",
    "# imprimir a área sob a curva\n",
    "print(\"AUC: {:.4f}\\n\".format(roc_auc_score(y_test,y_prob[:,1])))"
   ]
  },
  {
   "cell_type": "code",
   "execution_count": 167,
   "metadata": {
    "colab": {
     "base_uri": "https://localhost:8080/",
     "height": 51
    },
    "colab_type": "code",
    "id": "0huZPMuKuUCR",
    "outputId": "77a0498e-2b5a-4630-9704-0f39f46ca95d"
   },
   "outputs": [
    {
     "name": "stdout",
     "output_type": "stream",
     "text": [
      "Nova precisão: 0.6429\n",
      "Novo recall: 0.9643\n"
     ]
    }
   ],
   "source": [
    "y_scores_final = final_model.decision_function(X_test)\n",
    "y_test_pred_recall_90 = (y_scores_final > -2)\n",
    "\n",
    "print('Nova precisão: {:.4f}'.format(precision_score(y_test,y_test_pred_recall_90)))\n",
    "print('Novo recall: {:.4f}'.format(recall_score(y_test,y_test_pred_recall_90)))"
   ]
  },
  {
   "cell_type": "markdown",
   "metadata": {
    "colab_type": "text",
    "id": "u-MqirjIucZ4"
   },
   "source": [
    "### Sétimo passo"
   ]
  },
  {
   "cell_type": "code",
   "execution_count": 181,
   "metadata": {
    "colab": {},
    "colab_type": "code",
    "id": "xYSn6dCTuY6Y"
   },
   "outputs": [],
   "source": [
    "np.random.seed(SEED)\n",
    "\n",
    "deploy_model = LogisticRegression(solver='liblinear')\n",
    "deploy_model.fit(X, y)\n",
    "\n",
    "def previsao_threshold(data, threshold = -2):\n",
    "  y_previsao = deploy_model.decision_function(data)\n",
    "  y_threshold = (y_previsao > threshold)\n",
    "  print(' y_previsao ->\\n', y_previsao)\n",
    "  print('')\n",
    "  print('y_threshold ->\\n', y_threshold)\n",
    "  print('')\n",
    "  if threshold == True:\n",
    "    print('Paciente diagnosticado com doença cardíaca. (:')\n",
    "  else:\n",
    "    print('--> Paciente liberado :)')"
   ]
  },
  {
   "cell_type": "code",
   "execution_count": 182,
   "metadata": {
    "scrolled": true
   },
   "outputs": [
    {
     "name": "stdout",
     "output_type": "stream",
     "text": [
      " y_previsao ->\n",
      " [-9.39359931e-01  5.22379923e+00  4.33151208e+00 -1.23481529e+00\n",
      " -2.79017151e+00 -3.52881310e+00  1.40134974e+00 -2.05468716e+00\n",
      "  1.85239568e+00  1.67963925e+00 -2.87457763e-01 -2.10201932e+00\n",
      "  1.41828603e+00 -1.61042240e+00 -9.52588718e-01 -2.50235642e+00\n",
      " -1.05353835e+00 -1.56147370e+00 -2.17526488e+00 -2.83957113e+00\n",
      " -1.50279897e+00 -3.72022255e+00 -1.79256048e+00  2.09941804e+00\n",
      "  4.53208692e+00 -2.56809322e+00 -3.75637745e+00 -1.47320551e+00\n",
      " -1.26064345e+00  3.10574852e+00 -1.41381689e+00  1.75785302e+00\n",
      " -2.38908266e+00 -3.97351262e-01 -1.93107871e+00 -2.10588906e+00\n",
      "  3.10209463e+00  3.80367511e+00  3.11632159e+00 -9.73165215e-01\n",
      "  4.53274589e+00 -7.84534447e-01 -1.39313377e+00 -2.47133423e+00\n",
      " -2.69996756e+00  9.79779296e-01 -1.36463051e+00  2.48729649e+00\n",
      " -1.68808306e+00 -1.50744432e+00 -2.82057489e+00 -5.46873311e-01\n",
      "  1.12083473e-01 -3.01122203e+00  2.02284646e+00  4.42292862e+00\n",
      "  7.21515965e-01 -2.28981508e-03  1.31110811e-01  6.92900025e-01\n",
      "  7.92340832e-01 -8.23011893e-01  5.73703033e+00 -3.99890834e+00\n",
      "  2.53980416e+00  4.72498157e+00 -8.88184138e-01  5.98985442e-02\n",
      "  3.43885250e+00 -1.45866878e-01 -2.61080342e+00  7.43852520e-01\n",
      "  4.91854675e+00  1.38919280e+00 -1.00155501e+00 -1.87592424e+00\n",
      "  3.23822349e+00 -1.03827563e-01 -2.51541707e+00  2.80184761e+00\n",
      "  5.88465993e-01 -1.29328608e+00 -1.77181394e+00  9.75302713e-01\n",
      " -3.10355224e+00 -2.12084371e+00 -1.37033504e+00 -2.20507000e+00\n",
      " -2.07941968e+00 -1.31073246e+00  5.29920913e+00  3.34805789e+00\n",
      " -3.60535112e+00 -3.42697873e+00  1.30977114e+00  2.50317519e+00\n",
      "  2.61504644e+00 -1.39853188e+00 -2.37739806e+00 -2.23324276e+00\n",
      " -2.83025275e+00 -1.14212800e+00 -2.06138924e+00  3.88902913e+00\n",
      " -1.46523768e+00  9.82019012e-01  1.17961687e+00  2.86865788e+00\n",
      "  1.01516012e+00  9.66429486e-01  7.64215163e-01 -2.75263165e+00\n",
      "  1.87880995e+00  1.84593893e+00 -1.03323273e-01 -2.80270168e+00\n",
      " -2.53332722e+00  4.87577920e+00  2.95369717e+00  2.96064255e+00\n",
      "  4.55160391e+00 -9.53034171e-01  3.97389355e+00 -2.26318769e+00\n",
      " -2.95654639e+00  5.21849437e+00  3.19186818e+00 -3.05647577e+00\n",
      " -3.46247258e+00  2.00587854e-01  5.85945475e-01 -2.95930735e+00\n",
      " -1.39495886e+00 -2.93016492e+00 -2.50575697e+00  2.00304306e+00\n",
      "  2.51597084e+00  2.33281541e+00 -1.76976099e+00 -2.39802314e+00\n",
      " -4.63208337e-01 -4.37496861e+00  1.18290856e+00  3.05214444e-01\n",
      " -2.24911702e+00  5.10595251e+00 -2.88193742e+00 -2.21757117e+00\n",
      " -2.59146169e+00 -1.94338288e+00 -4.98835184e-01 -5.05002955e-01\n",
      "  3.33030026e+00  3.18392546e+00  4.24692451e+00  5.33043688e-01\n",
      "  1.75705100e+00  2.51526670e+00  9.44550927e-02 -2.15692324e+00\n",
      "  1.78488826e+00 -2.88836655e+00 -1.07833105e+00 -1.11010015e+00\n",
      " -3.47930325e-01 -1.71615960e+00  1.55425345e+00 -2.82825985e+00\n",
      "  3.51424594e+00  2.52807790e+00 -8.13054295e-01 -1.40834074e+00\n",
      "  3.42417753e+00  4.67545867e+00  2.45094583e+00  4.00396154e+00\n",
      " -2.19039123e-01  5.13562337e-01  3.16334763e-01  3.68771172e+00\n",
      " -1.21783862e-01  1.49788282e+00 -2.02059120e+00 -2.37799543e+00\n",
      " -1.79221845e+00  4.02690326e+00  6.09900029e-02  3.87230199e+00\n",
      " -2.55348512e+00  6.77105668e+00  2.62093942e+00 -1.28561413e+00\n",
      "  2.42260160e+00 -1.07906361e+00 -5.85042057e-01 -3.44798999e+00\n",
      " -1.20655635e+00 -2.42782183e+00 -1.34614943e+00 -9.89283937e-01\n",
      " -8.94898298e-01 -6.07732848e-01  5.50432393e+00  4.96066073e+00\n",
      "  2.58618164e+00 -2.69549142e+00 -1.28948389e+00 -3.20065879e+00\n",
      " -1.31543053e-01 -9.71231904e-01  1.58560000e+00 -1.12505646e+00\n",
      " -9.72764573e-01 -4.29274602e+00 -6.63006552e-01  1.36150693e+00\n",
      " -2.29148725e+00 -2.16085250e+00 -3.27531896e+00 -4.03072341e+00\n",
      "  5.54957945e+00 -3.05091730e-03 -4.11240642e+00 -1.53044173e+00\n",
      " -2.62845285e+00  2.01585138e+00  5.41393270e-01 -2.75357022e+00\n",
      "  1.78850329e+00  2.70738838e+00 -7.34979920e-01 -1.88750698e+00\n",
      "  4.20393589e+00  3.00789856e+00  8.78109150e-01 -3.19685207e+00\n",
      " -2.50266339e+00 -2.45859868e+00 -3.19727929e+00 -2.71042982e+00\n",
      "  2.95465021e-01 -2.20136823e+00  9.26043932e-01  7.73678593e-02\n",
      "  2.40585059e+00  1.62642311e+00 -2.69007032e+00  1.08794008e+00\n",
      "  3.31193741e+00  3.12758118e+00 -2.38052997e+00 -1.83778821e+00\n",
      " -3.26978040e+00 -7.63898040e-01 -1.74036563e+00 -1.98010281e+00\n",
      " -8.52530542e-01 -1.21101871e+00 -1.05212160e+00 -4.17773471e+00\n",
      " -2.58941232e+00  2.50802354e+00  2.48479818e+00  6.34475152e-01\n",
      " -5.20202931e-01 -1.81562772e+00  2.89490268e+00  9.39676708e-01\n",
      "  5.22344960e+00 -2.11594451e+00 -1.06371521e+00 -5.61616134e-01\n",
      " -1.20845603e+00 -2.11614565e+00 -1.12137587e+00 -1.71040114e+00\n",
      "  2.79016442e+00 -2.83238295e+00  2.41196179e+00 -2.89075288e+00\n",
      "  4.07106791e-01  5.01029850e+00  3.11422789e+00 -1.15792689e+00\n",
      " -2.94347245e+00  7.40284524e-02 -3.31326090e+00  1.64963191e+00\n",
      "  4.31406937e+00 -1.62065969e+00 -3.52511875e+00  4.39255283e+00\n",
      "  9.21241721e-01 -1.90358160e-01  2.52536678e+00  3.02135190e+00\n",
      " -2.39946853e+00]\n",
      "\n",
      "y_threshold ->\n",
      " [ True  True  True  True False False  True False  True  True  True False\n",
      "  True  True  True False  True  True False False  True False  True  True\n",
      "  True False False  True  True  True  True  True False  True  True False\n",
      "  True  True  True  True  True  True  True False False  True  True  True\n",
      "  True  True False  True  True False  True  True  True  True  True  True\n",
      "  True  True  True False  True  True  True  True  True  True False  True\n",
      "  True  True  True  True  True  True False  True  True  True  True  True\n",
      " False False  True False False  True  True  True False False  True  True\n",
      "  True  True False False False  True False  True  True  True  True  True\n",
      "  True  True  True False  True  True  True False False  True  True  True\n",
      "  True  True  True False False  True  True False False  True  True False\n",
      "  True False False  True  True  True  True False  True False  True  True\n",
      " False  True False False False  True  True  True  True  True  True  True\n",
      "  True  True  True False  True False  True  True  True  True  True False\n",
      "  True  True  True  True  True  True  True  True  True  True  True  True\n",
      "  True  True False False  True  True  True  True False  True  True  True\n",
      "  True  True  True False  True False  True  True  True  True  True  True\n",
      "  True False  True False  True  True  True  True  True False  True  True\n",
      " False False False False  True  True False  True False  True  True False\n",
      "  True  True  True  True  True  True  True False False False False False\n",
      "  True False  True  True  True  True False  True  True  True False  True\n",
      " False  True  True  True  True  True  True False False  True  True  True\n",
      "  True  True  True  True  True False  True  True  True False  True  True\n",
      "  True False  True False  True  True  True  True False  True False  True\n",
      "  True  True False  True  True  True  True  True False]\n",
      "\n",
      "--> Paciente liberado :)\n"
     ]
    }
   ],
   "source": [
    "previsao_threshold(X)"
   ]
  },
  {
   "cell_type": "code",
   "execution_count": null,
   "metadata": {},
   "outputs": [],
   "source": []
  }
 ],
 "metadata": {
  "colab": {
   "authorship_tag": "ABX9TyOT2Sr7b0th74NIMNafOrzo",
   "collapsed_sections": [],
   "include_colab_link": true,
   "name": "avaliacao_modelo.ipynb",
   "provenance": []
  },
  "kernelspec": {
   "display_name": "Python 3",
   "language": "python",
   "name": "python3"
  },
  "language_info": {
   "codemirror_mode": {
    "name": "ipython",
    "version": 3
   },
   "file_extension": ".py",
   "mimetype": "text/x-python",
   "name": "python",
   "nbconvert_exporter": "python",
   "pygments_lexer": "ipython3",
   "version": "3.7.1"
  }
 },
 "nbformat": 4,
 "nbformat_minor": 1
}
