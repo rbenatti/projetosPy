{
 "cells": [
  {
   "cell_type": "code",
   "execution_count": 1,
   "metadata": {},
   "outputs": [],
   "source": [
    "word = open('words','r')"
   ]
  },
  {
   "cell_type": "code",
   "execution_count": 2,
   "metadata": {},
   "outputs": [
    {
     "data": {
      "text/plain": [
       "<_io.TextIOWrapper name='words' mode='r' encoding='cp1252'>"
      ]
     },
     "execution_count": 2,
     "metadata": {},
     "output_type": "execute_result"
    }
   ],
   "source": [
    "word"
   ]
  },
  {
   "cell_type": "code",
   "execution_count": 3,
   "metadata": {},
   "outputs": [],
   "source": [
    "wordlist = word.readlines()"
   ]
  },
  {
   "cell_type": "code",
   "execution_count": 4,
   "metadata": {
    "scrolled": false
   },
   "outputs": [
    {
     "data": {
      "text/plain": [
       "['A\\n',\n",
       " 'a\\n',\n",
       " 'aa\\n',\n",
       " 'aal\\n',\n",
       " 'aalii\\n',\n",
       " 'aam\\n',\n",
       " 'Aani\\n',\n",
       " 'aardvark\\n',\n",
       " 'aardwolf\\n',\n",
       " 'Aaron\\n']"
      ]
     },
     "execution_count": 4,
     "metadata": {},
     "output_type": "execute_result"
    }
   ],
   "source": [
    "wordlist[:10]"
   ]
  },
  {
   "cell_type": "code",
   "execution_count": 28,
   "metadata": {},
   "outputs": [
    {
     "data": {
      "text/plain": [
       "235886"
      ]
     },
     "execution_count": 28,
     "metadata": {},
     "output_type": "execute_result"
    }
   ],
   "source": [
    "len(wordlist)"
   ]
  },
  {
   "cell_type": "code",
   "execution_count": 29,
   "metadata": {},
   "outputs": [
    {
     "data": {
      "text/plain": [
       "'Aaron'"
      ]
     },
     "execution_count": 29,
     "metadata": {},
     "output_type": "execute_result"
    }
   ],
   "source": [
    "'Aaron\\n'.strip()"
   ]
  },
  {
   "cell_type": "code",
   "execution_count": 30,
   "metadata": {},
   "outputs": [
    {
     "data": {
      "text/plain": [
       "'aaron'"
      ]
     },
     "execution_count": 30,
     "metadata": {},
     "output_type": "execute_result"
    }
   ],
   "source": [
    "'Aaron'.lower()"
   ]
  },
  {
   "cell_type": "code",
   "execution_count": 31,
   "metadata": {},
   "outputs": [],
   "source": [
    "wordclean = [word.strip().lower() for word in wordlist]"
   ]
  },
  {
   "cell_type": "code",
   "execution_count": 32,
   "metadata": {
    "scrolled": true
   },
   "outputs": [
    {
     "data": {
      "text/plain": [
       "['a',\n",
       " 'a',\n",
       " 'aa',\n",
       " 'aal',\n",
       " 'aalii',\n",
       " 'aam',\n",
       " 'aani',\n",
       " 'aardvark',\n",
       " 'aardwolf',\n",
       " 'aaron']"
      ]
     },
     "execution_count": 32,
     "metadata": {},
     "output_type": "execute_result"
    }
   ],
   "source": [
    "wordclean[:10]"
   ]
  },
  {
   "cell_type": "code",
   "execution_count": 33,
   "metadata": {},
   "outputs": [],
   "source": [
    "wordunique = list(set(wordclean))"
   ]
  },
  {
   "cell_type": "code",
   "execution_count": 34,
   "metadata": {},
   "outputs": [
    {
     "data": {
      "text/plain": [
       "['swounds',\n",
       " 'doctorlike',\n",
       " 'gyroceran',\n",
       " 'underemployment',\n",
       " 'choky',\n",
       " 'originalness',\n",
       " 'preseparation',\n",
       " 'kith',\n",
       " 'uncall',\n",
       " 'isocholesterin',\n",
       " 'porpita',\n",
       " 'monocle',\n",
       " 'poller',\n",
       " 'golgotha',\n",
       " 'punchlike',\n",
       " 'unconformist',\n",
       " 'branchiostegidae',\n",
       " 'caracolite',\n",
       " 'misincline',\n",
       " 'undamasked',\n",
       " 'worrier',\n",
       " 'caloricity',\n",
       " 'semireticulate',\n",
       " 'batsman',\n",
       " 'shortsightedly',\n",
       " 'ingenerable',\n",
       " 'misoneistic',\n",
       " 'melanochroous',\n",
       " 'monocotyledonous',\n",
       " 'procrypsis',\n",
       " 'reassociate',\n",
       " 'bajury',\n",
       " 'ablare',\n",
       " 'jeffersonian',\n",
       " 'longiloquence',\n",
       " 'denitration',\n",
       " 'particularist',\n",
       " 'achatinella',\n",
       " 'freak',\n",
       " 'bioecology',\n",
       " 'ocuby',\n",
       " 'ambury',\n",
       " 'lorien',\n",
       " 'boundness',\n",
       " 'distinguishingly',\n",
       " 'suppliable',\n",
       " 'serjeant',\n",
       " 'nonevangelical',\n",
       " 'viti',\n",
       " 'duration',\n",
       " 'hospitate',\n",
       " 'ineffectualness',\n",
       " 'porencephalia',\n",
       " 'antibridal',\n",
       " 'married',\n",
       " 'reformandum',\n",
       " 'rivalable',\n",
       " 'pinealism',\n",
       " 'radicolous',\n",
       " 'predistributor',\n",
       " 'arras',\n",
       " 'zomotherapeutic',\n",
       " 'pantoglossical',\n",
       " 'rhodesoid',\n",
       " 'brobdingnag',\n",
       " 'pondwort',\n",
       " 'prestidigitation',\n",
       " 'raninian',\n",
       " 'sanidine',\n",
       " 'steeplelike',\n",
       " 'martinet',\n",
       " 'unelating',\n",
       " 'scarious',\n",
       " 'sphaeriaceous',\n",
       " 'lazzarone',\n",
       " 'expect',\n",
       " 'alipata',\n",
       " 'ofttime',\n",
       " 'irascibly',\n",
       " 'leatherine',\n",
       " 'peludo',\n",
       " 'oenanthate',\n",
       " 'twae',\n",
       " 'sumper',\n",
       " 'quintennial',\n",
       " 'antechapel',\n",
       " 'anthraconite',\n",
       " 'trichocarpous',\n",
       " 'andorran',\n",
       " 'cosmogonize',\n",
       " 'hymenopterous',\n",
       " 'pericycloid',\n",
       " 'theligonaceae',\n",
       " 'ameloblast',\n",
       " 'eskimauan',\n",
       " 'monoptical',\n",
       " 'pennatipartite',\n",
       " 'catagenesis',\n",
       " 'purging',\n",
       " 'terminator',\n",
       " 'cariri',\n",
       " 'consubstantiality',\n",
       " 'historicophysical',\n",
       " 'undebased',\n",
       " 'antipathetical',\n",
       " 'deificatory',\n",
       " 'looseness',\n",
       " 'monobromated',\n",
       " 'copelata',\n",
       " 'vrbaite',\n",
       " 'actinocarpous',\n",
       " 'virulent',\n",
       " 'lacewoman',\n",
       " 'cremaster',\n",
       " 'backtracker',\n",
       " 'irreversibility',\n",
       " 'monocentrid',\n",
       " 'outbulk',\n",
       " 'camerate',\n",
       " 'unagitated',\n",
       " 'antiorgastic',\n",
       " 'pinitannic',\n",
       " 'zeugobranchiata',\n",
       " 'bollworm',\n",
       " 'insensitivity',\n",
       " 'tartana',\n",
       " 'vell',\n",
       " 'epituberculosis',\n",
       " 'geneki',\n",
       " 'isolecithal',\n",
       " 'copremia',\n",
       " 'skokomish',\n",
       " 'benzhydroxamic',\n",
       " 'intercolonization',\n",
       " 'unsalable',\n",
       " 'cress',\n",
       " 'disgregate',\n",
       " 'moist',\n",
       " 'beardlessness',\n",
       " 'cohoba',\n",
       " 'expenseless',\n",
       " 'corncracker',\n",
       " 'hookworm',\n",
       " 'anteporch',\n",
       " 'skilly',\n",
       " 'systole',\n",
       " 'riotous',\n",
       " 'primost',\n",
       " 'spiffed',\n",
       " 'direction',\n",
       " 'toxophilite',\n",
       " 'underpaid',\n",
       " 'urazole',\n",
       " 'nonapprehension',\n",
       " 'thickheadedly',\n",
       " 'sixscore',\n",
       " 'remineralization',\n",
       " 'blepharosymphysis',\n",
       " 'fructed',\n",
       " 'quarterstetch',\n",
       " 'trigone',\n",
       " 'fabliau',\n",
       " 'alkylidene',\n",
       " 'almique',\n",
       " 'adumbral',\n",
       " 'pagelike',\n",
       " 'caucasian',\n",
       " 'therapeutist',\n",
       " 'zoomimic',\n",
       " 'breadseller',\n",
       " 'macrocoly',\n",
       " 'setose',\n",
       " 'aeronaut',\n",
       " 'doat',\n",
       " 'ceratoid',\n",
       " 'thermodynamician',\n",
       " 'unruddered',\n",
       " 'orang',\n",
       " 'swaird',\n",
       " 'forever',\n",
       " 'storax',\n",
       " 'unadornedness',\n",
       " 'diagnosticate',\n",
       " 'lightlessness',\n",
       " 'revivingly',\n",
       " 'ineffectually',\n",
       " 'unrancored',\n",
       " 'hippidion',\n",
       " 'misreckon',\n",
       " 'wheezer',\n",
       " 'bibbler',\n",
       " 'condolingly',\n",
       " 'superelated',\n",
       " 'wham',\n",
       " 'blepharitic',\n",
       " 'irrigable',\n",
       " 'dextran',\n",
       " 'bankruptly',\n",
       " 'malcultivation',\n",
       " 'preinvent',\n",
       " 'universalness',\n",
       " 'fagopyrum',\n",
       " 'physiographically',\n",
       " 'yee',\n",
       " 'splutter',\n",
       " 'babi',\n",
       " 'emboweler',\n",
       " 'appurtenant',\n",
       " 'chorioiditis',\n",
       " 'luteous',\n",
       " 'undeliberative',\n",
       " 'perdure',\n",
       " 'nonsmoking',\n",
       " 'unexacerbated',\n",
       " 'firmamental',\n",
       " 'unadmired',\n",
       " 'superior',\n",
       " 'diligentia',\n",
       " 'farctate',\n",
       " 'omniactive',\n",
       " 'unadmission',\n",
       " 'pelopid',\n",
       " 'undies',\n",
       " 'spermatoplast',\n",
       " 'yusdrum',\n",
       " 'zygosphene',\n",
       " 'nodical',\n",
       " 'tesserate',\n",
       " 'ganosis',\n",
       " 'sucivilized',\n",
       " 'unconsolidation',\n",
       " 'hueful',\n",
       " 'desmology',\n",
       " 'profugate',\n",
       " 'staple',\n",
       " 'flinter',\n",
       " 'bescratch',\n",
       " 'ovula',\n",
       " 'lornness',\n",
       " 'deltic',\n",
       " 'ponticulus',\n",
       " 'semifused',\n",
       " 'bena',\n",
       " 'lutjanidae',\n",
       " 'hindustani',\n",
       " 'urotoxic',\n",
       " 'unexclusively',\n",
       " 'unswooning',\n",
       " 'inexpressibility',\n",
       " 'metaparapteron',\n",
       " 'confiteor',\n",
       " 'idler',\n",
       " 'fancifulness',\n",
       " 'mineralogist',\n",
       " 'alkalescency',\n",
       " 'swelty',\n",
       " 'embatholithic',\n",
       " 'overtechnical',\n",
       " 'afghan',\n",
       " 'bing',\n",
       " 'comparascope',\n",
       " 'muskhogean',\n",
       " 'boycottage',\n",
       " 'movability',\n",
       " 'suchwise',\n",
       " 'north',\n",
       " 'combination',\n",
       " 'squatly',\n",
       " 'nonblooming',\n",
       " 'astonishment',\n",
       " 'waxberry',\n",
       " 'manolis',\n",
       " 'schoolboyhood',\n",
       " 'lag',\n",
       " 'signee',\n",
       " 'pugilant',\n",
       " 'significatrix',\n",
       " 'alack',\n",
       " 'pharisaean',\n",
       " 'amygdalectomy',\n",
       " 'velocitous',\n",
       " 'impostumation',\n",
       " 'phoronid',\n",
       " 'hemimorphism',\n",
       " 'patrin',\n",
       " 'daughterless',\n",
       " 'youngness',\n",
       " 'monogram',\n",
       " 'daub',\n",
       " 'psilotum',\n",
       " 'analogism',\n",
       " 'autopticity',\n",
       " 'unanimistic',\n",
       " 'aeolharmonica',\n",
       " 'postgastric',\n",
       " 'atoke',\n",
       " 'unopposed',\n",
       " 'spermophytic',\n",
       " 'perfectioner',\n",
       " 'zorillo',\n",
       " 'butlerage',\n",
       " 'quelch',\n",
       " 'infraperipherial',\n",
       " 'metatarsal',\n",
       " 'zymometer',\n",
       " 'undeclaiming',\n",
       " 'adventual',\n",
       " 'piercel',\n",
       " 'poneroid',\n",
       " 'salicylate',\n",
       " 'antihalation',\n",
       " 'ballplayer',\n",
       " 'smartingly',\n",
       " 'kamaloka',\n",
       " 'botrytis',\n",
       " 'androkinin',\n",
       " 'monopolylogue',\n",
       " 'lumbocolostomy',\n",
       " 'prickmadam',\n",
       " 'demiluster',\n",
       " 'glyoxal',\n",
       " 'ehuawa',\n",
       " 'ophiology',\n",
       " 'trousers',\n",
       " 'gmelina',\n",
       " 'backflow',\n",
       " 'murex',\n",
       " 'wagoma',\n",
       " 'nativeness',\n",
       " 'inopportunism',\n",
       " 'pianino',\n",
       " 'reverseways',\n",
       " 'featherhead',\n",
       " 'maned',\n",
       " 'prerogativity',\n",
       " 'attrap',\n",
       " 'flannelette',\n",
       " 'nonelectrized',\n",
       " 'skeletonizer',\n",
       " 'cravenette',\n",
       " 'lorraine',\n",
       " 'buffeter',\n",
       " 'shoulderer',\n",
       " 'dextrorsal',\n",
       " 'unstirring',\n",
       " 'pathologicoanatomical',\n",
       " 'tillot',\n",
       " 'resubscription',\n",
       " 'neurologist',\n",
       " 'homopolarity',\n",
       " 'toydom',\n",
       " 'undiscounted',\n",
       " 'clinopyroxene',\n",
       " 'dilettanteship',\n",
       " 'intellectualizer',\n",
       " 'oxyketone',\n",
       " 'phthalocyanine',\n",
       " 'mimicism',\n",
       " 'overmantle',\n",
       " 'productible',\n",
       " 'phytotoxin',\n",
       " 'remontant',\n",
       " 'tussock',\n",
       " 'wheezingly',\n",
       " 'mucivorous',\n",
       " 'luminate',\n",
       " 'bestripe',\n",
       " 'unreprovably',\n",
       " 'superarseniate',\n",
       " 'gobiiformes',\n",
       " 'scythework',\n",
       " 'defaultant',\n",
       " 'gignitive',\n",
       " 'butterbush',\n",
       " 'outwards',\n",
       " 'stomatitis',\n",
       " 'tubatoxin',\n",
       " 'churlishly',\n",
       " 'overmastering',\n",
       " 'pachypleuritic',\n",
       " 'carnacian',\n",
       " 'polyphage',\n",
       " 'uncompassionated',\n",
       " 'unpinked',\n",
       " 'pentatomidae',\n",
       " 'subtunic',\n",
       " 'procatarctic',\n",
       " 'coadsorbent',\n",
       " 'strophomena',\n",
       " 'dactyliographer',\n",
       " 'guardingly',\n",
       " 'statuecraft',\n",
       " 'overbitterly',\n",
       " 'babouvism',\n",
       " 'strongly',\n",
       " 'triangulid',\n",
       " 'greatheart',\n",
       " 'sturnoid',\n",
       " 'fittedness',\n",
       " 'guerickian',\n",
       " 'unfashioned',\n",
       " 'adamantean',\n",
       " 'barbal',\n",
       " 'majorist',\n",
       " 'unappreciating',\n",
       " 'ascidiferous',\n",
       " 'subpermanent',\n",
       " 'pityriasic',\n",
       " 'phillipsine',\n",
       " 'femaleness',\n",
       " 'hymettian',\n",
       " 'petaloid',\n",
       " 'chive',\n",
       " 'censure',\n",
       " 'disenfranchisement',\n",
       " 'balefire',\n",
       " 'crossbeam',\n",
       " 'bronchopathy',\n",
       " 'peptogeny',\n",
       " 'cliack',\n",
       " 'semiconceal',\n",
       " 'dolichopsyllidae',\n",
       " 'nilot',\n",
       " 'unmathematically',\n",
       " 'sexed',\n",
       " 'ammoniation',\n",
       " 'katipunan',\n",
       " 'covercle',\n",
       " 'camelid',\n",
       " 'unlost',\n",
       " 'biosystematic',\n",
       " 'fustianist',\n",
       " 'rosiness',\n",
       " 'misconjunction',\n",
       " 'tomboyishness',\n",
       " 'ascaridiasis',\n",
       " 'indomitability',\n",
       " 'diazenithal',\n",
       " 'cresamine',\n",
       " 'bandle',\n",
       " 'amurru',\n",
       " 'cyathiform',\n",
       " 'radiodontia',\n",
       " 'precapture',\n",
       " 'governableness',\n",
       " 'basicranial',\n",
       " 'unprocure',\n",
       " 'facty',\n",
       " 'hyperacuteness',\n",
       " 'delthyrial',\n",
       " 'cellulose',\n",
       " 'areach',\n",
       " 'monodram',\n",
       " 'darghin',\n",
       " 'purlhouse',\n",
       " 'uproariously',\n",
       " 'caparison',\n",
       " 'fogon',\n",
       " 'houndsberry',\n",
       " 'invertebracy',\n",
       " 'desyl',\n",
       " 'rotate',\n",
       " 'stylotypite',\n",
       " 'valencianite',\n",
       " 'marshlocks',\n",
       " 'multiformity',\n",
       " 'predestinately',\n",
       " 'xenacanthine',\n",
       " 'actinophore',\n",
       " 'tiptoe',\n",
       " 'monomastigate',\n",
       " 'unsaccharic',\n",
       " 'cocaceous',\n",
       " 'goodwillit',\n",
       " 'kyar',\n",
       " 'maladminister',\n",
       " 'coastal',\n",
       " 'billfish',\n",
       " 'herbager',\n",
       " 'mopish',\n",
       " 'ooid',\n",
       " 'uncombiningness',\n",
       " 'blennothorax',\n",
       " 'coxitis',\n",
       " 'veratrum',\n",
       " 'sayer',\n",
       " 'tracheocele',\n",
       " 'planulan',\n",
       " 'horsetown',\n",
       " 'fumer',\n",
       " 'xanthospermous',\n",
       " 'chromotypography',\n",
       " 'tuamotu',\n",
       " 'monostich',\n",
       " 'smut',\n",
       " 'bottomlessness',\n",
       " 'lobfig',\n",
       " 'ionoxalis',\n",
       " 'phytomorphosis',\n",
       " 'dab',\n",
       " 'epagomenae',\n",
       " 'griper',\n",
       " 'israelite',\n",
       " 'martyrly',\n",
       " 'alcheringa',\n",
       " 'anoplotheriidae',\n",
       " 'filmist',\n",
       " 'lituus',\n",
       " 'parbake',\n",
       " 'gaize',\n",
       " 'nitrosylsulphuric',\n",
       " 'quar',\n",
       " 'scotchification',\n",
       " 'strikebreaker',\n",
       " 'vaccinoid',\n",
       " 'labyrinthula',\n",
       " 'nuque',\n",
       " 'nonbacterial',\n",
       " 'anthocarpous',\n",
       " 'chameleonize',\n",
       " 'osteopath',\n",
       " 'eventognath',\n",
       " 'zanthoxylum',\n",
       " 'incestuousness',\n",
       " 'celestine',\n",
       " 'latent',\n",
       " 'acceptant',\n",
       " 'anchoritish',\n",
       " 'inflectional',\n",
       " 'pomato',\n",
       " 'spectrous',\n",
       " 'barology',\n",
       " 'subserosa',\n",
       " 'naturopathist',\n",
       " 'phalangette',\n",
       " 'lupanine',\n",
       " 'ratherly',\n",
       " 'unlettable',\n",
       " 'unwandering',\n",
       " 'recreatively',\n",
       " 'secretionary',\n",
       " 'bunkum',\n",
       " 'sanious',\n",
       " 'ocydromus',\n",
       " 'bimalar',\n",
       " 'pullulation',\n",
       " 'amarthritis',\n",
       " 'tremolist',\n",
       " 'palladianism',\n",
       " 'stipendiarian',\n",
       " 'markfieldite',\n",
       " 'rahanwin',\n",
       " 'pancratical',\n",
       " 'belugite',\n",
       " 'inflammatory',\n",
       " 'naggly',\n",
       " 'changelessly',\n",
       " 'bromomethane',\n",
       " 'amorphus',\n",
       " 'holidayism',\n",
       " 'tininess',\n",
       " 'separatistic',\n",
       " 'anastatus',\n",
       " 'almohades',\n",
       " 'dinnertime',\n",
       " 'circuitor',\n",
       " 'autohemolysis',\n",
       " 'gleba',\n",
       " 'sagittariid',\n",
       " 'squatness',\n",
       " 'tern',\n",
       " 'magnetooptics',\n",
       " 'rigorousness',\n",
       " 'borlase',\n",
       " 'interminglement',\n",
       " 'zingiber',\n",
       " 'beamfilling',\n",
       " 'amphoral',\n",
       " 'dubiously',\n",
       " 'effectivity',\n",
       " 'malines',\n",
       " 'repellency',\n",
       " 'industrialization',\n",
       " 'predisposed',\n",
       " 'hydrometeor',\n",
       " 'traducing',\n",
       " 'gilim',\n",
       " 'quayage',\n",
       " 'desiredness',\n",
       " 'intend',\n",
       " 'lightish',\n",
       " 'pointer',\n",
       " 'balancedness',\n",
       " 'ovolemma',\n",
       " 'twitch',\n",
       " 'minnesinger',\n",
       " 'phytosociologically',\n",
       " 'pampootie',\n",
       " 'cedilla',\n",
       " 'unaverred',\n",
       " 'roove',\n",
       " 'tch',\n",
       " 'peristeromorphic',\n",
       " 'protophilosophic',\n",
       " 'miohippus',\n",
       " 'ungone',\n",
       " 'volent',\n",
       " 'hemispherule',\n",
       " 'accension',\n",
       " 'engraftment',\n",
       " 'tamanaca',\n",
       " 'oliver',\n",
       " 'palilia',\n",
       " 'thuggish',\n",
       " 'leading',\n",
       " 'preponderately',\n",
       " 'xenophobe',\n",
       " 'zaramo',\n",
       " 'acrostic',\n",
       " 'overbrown',\n",
       " 'roundedness',\n",
       " 'blazon',\n",
       " 'nonpsychological',\n",
       " 'reindue',\n",
       " 'tukuler',\n",
       " 'doohinkus',\n",
       " 'examiningly',\n",
       " 'unexpounded',\n",
       " 'pharmacopolist',\n",
       " 'albiflorous',\n",
       " 'nucleiform',\n",
       " 'uncongealed',\n",
       " 'grubbily',\n",
       " 'evolutionism',\n",
       " 'stipendiary',\n",
       " 'browntail',\n",
       " 'haughtly',\n",
       " 'unfacile',\n",
       " 'vicarship',\n",
       " 'unshameable',\n",
       " 'definiendum',\n",
       " 'urosome',\n",
       " 'dicotyledonous',\n",
       " 'multilobate',\n",
       " 'wangrace',\n",
       " 'esthesia',\n",
       " 'grammaticize',\n",
       " 'pianolist',\n",
       " 'celiodynia',\n",
       " 'dissever',\n",
       " 'whacking',\n",
       " 'overgratify',\n",
       " 'epicurism',\n",
       " 'squilgeer',\n",
       " 'artifact',\n",
       " 'tuzzle',\n",
       " 'bluebill',\n",
       " 'witchet',\n",
       " 'modumite',\n",
       " 'flection',\n",
       " 'ventricle',\n",
       " 'unimmortalized',\n",
       " 'actification',\n",
       " 'polysulphide',\n",
       " 'coliuria',\n",
       " 'paragaster',\n",
       " 'constrainedly',\n",
       " 'afterhope',\n",
       " 'kodurite',\n",
       " 'unsuffocative',\n",
       " 'sulphydric',\n",
       " 'cemeterial',\n",
       " 'ophthalmalgia',\n",
       " 'pinguicula',\n",
       " 'sculptured',\n",
       " 'miaotse',\n",
       " 'postrider',\n",
       " 'erode',\n",
       " 'sapropelic',\n",
       " 'rusticalness',\n",
       " 'peeling',\n",
       " 'metapectic',\n",
       " 'paradoxician',\n",
       " 'hemoglobulin',\n",
       " 'lichenivorous',\n",
       " 'mesomyodi',\n",
       " 'paraconic',\n",
       " 'taliage',\n",
       " 'whiggess',\n",
       " 'mumblement',\n",
       " 'hypokoristikon',\n",
       " 'wishedly',\n",
       " 'singult',\n",
       " 'fibromembranous',\n",
       " 'vernacularly',\n",
       " 'unchastisable',\n",
       " 'babu',\n",
       " 'curmudgeonery',\n",
       " 'centric',\n",
       " 'mafic',\n",
       " 'farcing',\n",
       " 'turdetan',\n",
       " 'notidanus',\n",
       " 'unstreaked',\n",
       " 'unretrievingly',\n",
       " 'unvascular',\n",
       " 'hsi',\n",
       " 'silker',\n",
       " 'entomophagous',\n",
       " 'yogist',\n",
       " 'infestive',\n",
       " 'decemfid',\n",
       " 'rufflement',\n",
       " 'tchetchentsish',\n",
       " 'iguania',\n",
       " 'indemonstrableness',\n",
       " 'unkindhearted',\n",
       " 'absorb',\n",
       " 'catalexis',\n",
       " 'waking',\n",
       " 'undislodged',\n",
       " 'lockian',\n",
       " 'monoclinous',\n",
       " 'hygrometrical',\n",
       " 'ridgeband',\n",
       " 'liquidable',\n",
       " 'ceratospongian',\n",
       " 'postpyloric',\n",
       " 'invitement',\n",
       " 'moslemism',\n",
       " 'graftdom',\n",
       " 'unsecreted',\n",
       " 'mockbird',\n",
       " 'strepsipteron',\n",
       " 'polytrichaceous',\n",
       " 'precedential',\n",
       " 'propane',\n",
       " 'ragshag',\n",
       " 'adjectivism',\n",
       " 'beach',\n",
       " 'jambeau',\n",
       " 'amiidae',\n",
       " 'psychoanalyzer',\n",
       " 'valeric',\n",
       " 'vishnuvite',\n",
       " 'korean',\n",
       " 'anaphora',\n",
       " 'dactylomegaly',\n",
       " 'sportfulness',\n",
       " 'underscrupulous',\n",
       " 'unfrustrable',\n",
       " 'enactory',\n",
       " 'pyoctanin',\n",
       " 'potterer',\n",
       " 'camaraderie',\n",
       " 'consul',\n",
       " 'ducape',\n",
       " 'prolusory',\n",
       " 'caimito',\n",
       " 'archineuron',\n",
       " 'evonymus',\n",
       " 'ink',\n",
       " 'diagenesis',\n",
       " 'refrangibility',\n",
       " 'coaster',\n",
       " 'actuator',\n",
       " 'superrenal',\n",
       " 'prewar',\n",
       " 'imponderous',\n",
       " 'brigbote',\n",
       " 'sumptuosity',\n",
       " 'meddlecome',\n",
       " 'enthelmintha',\n",
       " 'requisitely',\n",
       " 'shootee',\n",
       " 'checkstone',\n",
       " 'fining',\n",
       " 'peril',\n",
       " 'pyroarsenic',\n",
       " 'bicyclo',\n",
       " 'telepheme',\n",
       " 'nonisotropic',\n",
       " 'phlebolith',\n",
       " 'ironbark',\n",
       " 'thecal',\n",
       " 'cathedrallike',\n",
       " 'predicamental',\n",
       " 'stratum',\n",
       " 'stupend',\n",
       " 'unordain',\n",
       " 'octapla',\n",
       " 'rebaptization',\n",
       " 'filings',\n",
       " 'mucosanguineous',\n",
       " 'unconceded',\n",
       " 'igneoaqueous',\n",
       " 'pulpiter',\n",
       " 'interluder',\n",
       " 'pindaric',\n",
       " 'dunbird',\n",
       " 'ait',\n",
       " 'eutannin',\n",
       " 'chipchap',\n",
       " 'polytomous',\n",
       " 'yerba',\n",
       " 'canthotomy',\n",
       " 'florification',\n",
       " 'italianity',\n",
       " 'openmouthedly',\n",
       " 'shug',\n",
       " 'tracksick',\n",
       " 'outgush',\n",
       " 'deflocculator',\n",
       " 'unbusinesslike',\n",
       " 'difficulty',\n",
       " 'strontia',\n",
       " 'auxochrome',\n",
       " 'mesiogingival',\n",
       " 'plagiarizer',\n",
       " 'versiform',\n",
       " 'jincan',\n",
       " 'phagocytize',\n",
       " 'maenalus',\n",
       " 'pseudohemal',\n",
       " 'rearranger',\n",
       " 'homogenetical',\n",
       " 'unimpressiveness',\n",
       " 'noncomposite',\n",
       " 'inditement',\n",
       " 'electragist',\n",
       " 'semiforeign',\n",
       " 'masoretic',\n",
       " 'myriopodous',\n",
       " 'fideicommissioner',\n",
       " 'epicentral',\n",
       " 'hist',\n",
       " 'unthematic',\n",
       " 'injudicial',\n",
       " 'tuborrhea',\n",
       " 'newberyite',\n",
       " 'prayer',\n",
       " 'incarnationist',\n",
       " 'overearnest',\n",
       " 'infusion',\n",
       " 'armarium',\n",
       " 'steamtightness',\n",
       " 'orchestre',\n",
       " 'undust',\n",
       " 'voltage',\n",
       " 'idiopsychology',\n",
       " 'lithonephria',\n",
       " 'immerse',\n",
       " 'quinquereme',\n",
       " 'hyoplastral',\n",
       " 'missourite',\n",
       " 'weigela',\n",
       " 'sheldrake',\n",
       " 'multiloculated',\n",
       " 'paiute',\n",
       " 'reinvert',\n",
       " 'anotropia',\n",
       " 'flatteringly',\n",
       " 'pappi',\n",
       " 'transportationist',\n",
       " 'nepotious',\n",
       " 'unhorizoned',\n",
       " 'longshanks',\n",
       " 'esthesiophysiology',\n",
       " 'egophonic',\n",
       " 'hindcast',\n",
       " 'naphthenic',\n",
       " 'hippopotamine',\n",
       " 'nonseizure',\n",
       " 'reen',\n",
       " 'scaramouch',\n",
       " 'concupiscent',\n",
       " 'convert',\n",
       " 'supercarbonize',\n",
       " 'noncaking',\n",
       " 'corrasive',\n",
       " 'osmate',\n",
       " 'bichromatic',\n",
       " 'prionidae',\n",
       " 'eupolyzoa',\n",
       " 'schistosomia',\n",
       " 'doomsman',\n",
       " 'reliableness',\n",
       " 'undirectional',\n",
       " 'begall',\n",
       " 'diodont',\n",
       " 'longwise',\n",
       " 'trichotomist',\n",
       " 'whosumdever',\n",
       " 'paroemia',\n",
       " 'overgrossly',\n",
       " 'nazarean',\n",
       " 'mythoclastic',\n",
       " 'unexcusedly',\n",
       " 'furnacite',\n",
       " 'interassure',\n",
       " 'songman',\n",
       " 'threadbarity',\n",
       " 'laryngotracheitis',\n",
       " 'bookie',\n",
       " 'noninsect',\n",
       " 'spiry',\n",
       " 'vesania',\n",
       " 'poundkeeper',\n",
       " 'uneffeminate',\n",
       " 'immanently',\n",
       " 'troublement',\n",
       " 'posturize',\n",
       " 'syringotomy',\n",
       " 'antiparalytic',\n",
       " 'diaphote',\n",
       " 'perioikoi',\n",
       " 'commissar',\n",
       " 'cardioparplasis',\n",
       " 'hysteromorphous',\n",
       " 'philippines',\n",
       " 'interradius',\n",
       " 'streptobacillus',\n",
       " 'loca',\n",
       " 'amidocapric',\n",
       " 'itchingly',\n",
       " 'amish',\n",
       " 'brainache',\n",
       " 'musketade',\n",
       " 'supranasal',\n",
       " 'trombony',\n",
       " 'noncapitalist',\n",
       " 'pentaptych',\n",
       " 'bohairic',\n",
       " 'repeatability',\n",
       " 'insured',\n",
       " 'anuran',\n",
       " 'gastrolienal',\n",
       " 'examinee',\n",
       " 'waywort',\n",
       " 'edh',\n",
       " 'anteroflexion',\n",
       " 'tiriba',\n",
       " 'gamasid',\n",
       " 'lixivium',\n",
       " 'thymopathy',\n",
       " 'unfolding',\n",
       " 'unseeable',\n",
       " 'hyperirritable',\n",
       " 'diascordium',\n",
       " 'semantically',\n",
       " 'aphlogistic',\n",
       " 'placodermatous',\n",
       " 'fluidram',\n",
       " 'parivincular',\n",
       " 'ascribable',\n",
       " 'preorally',\n",
       " 'glumly',\n",
       " 'octavius',\n",
       " 'aftermost',\n",
       " 'hematomyelitis',\n",
       " 'yawnups',\n",
       " 'methylotic',\n",
       " 'rapanea',\n",
       " 'unparodied',\n",
       " 'concessionary',\n",
       " 'citharoedus',\n",
       " 'galeodidae',\n",
       " 'territorian',\n",
       " 'undercap',\n",
       " 'kerchoo',\n",
       " 'afterfame',\n",
       " 'pyosalpingitis',\n",
       " 'proabsolutism',\n",
       " 'swungen',\n",
       " 'thirstless',\n",
       " 'weary',\n",
       " 'patener',\n",
       " 'thegnworthy',\n",
       " 'rachialgic',\n",
       " 'thumble',\n",
       " 'reintuitive',\n",
       " 'chrysoeriol',\n",
       " 'infusorial',\n",
       " 'malacopodous',\n",
       " 'unheartsome',\n",
       " 'castilian',\n",
       " 'immoralism',\n",
       " 'occamist',\n",
       " 'predefinition',\n",
       " 'forfeiture',\n",
       " 'polling',\n",
       " 'sealer',\n",
       " 'skeltonical',\n",
       " 'skipper',\n",
       " 'titillatory',\n",
       " 'hydracrylate',\n",
       " 'latinism',\n",
       " 'overliberal',\n",
       " 'courtcraft',\n",
       " 'endopelvic',\n",
       " ...]"
      ]
     },
     "execution_count": 34,
     "metadata": {},
     "output_type": "execute_result"
    }
   ],
   "source": [
    "wordunique"
   ]
  },
  {
   "cell_type": "code",
   "execution_count": 12,
   "metadata": {},
   "outputs": [],
   "source": [
    "wordunique.sort()"
   ]
  },
  {
   "cell_type": "code",
   "execution_count": 35,
   "metadata": {},
   "outputs": [
    {
     "data": {
      "text/plain": [
       "234371"
      ]
     },
     "execution_count": 35,
     "metadata": {},
     "output_type": "execute_result"
    }
   ],
   "source": [
    "len(wordunique)"
   ]
  },
  {
   "cell_type": "code",
   "execution_count": 13,
   "metadata": {},
   "outputs": [
    {
     "data": {
      "text/plain": [
       "['a',\n",
       " 'aa',\n",
       " 'aal',\n",
       " 'aalii',\n",
       " 'aam',\n",
       " 'aani',\n",
       " 'aardvark',\n",
       " 'aardwolf',\n",
       " 'aaron',\n",
       " 'aaronic']"
      ]
     },
     "execution_count": 13,
     "metadata": {},
     "output_type": "execute_result"
    }
   ],
   "source": [
    "wordunique[:10]"
   ]
  },
  {
   "cell_type": "code",
   "execution_count": 36,
   "metadata": {},
   "outputs": [],
   "source": [
    "wordclean = [word.strip().lower() for word in open('words','r')]"
   ]
  },
  {
   "cell_type": "code",
   "execution_count": 38,
   "metadata": {},
   "outputs": [
    {
     "data": {
      "text/plain": [
       "235886"
      ]
     },
     "execution_count": 38,
     "metadata": {},
     "output_type": "execute_result"
    }
   ],
   "source": [
    "len(wordclean)"
   ]
  },
  {
   "cell_type": "code",
   "execution_count": 37,
   "metadata": {},
   "outputs": [
    {
     "data": {
      "text/plain": [
       "['a',\n",
       " 'a',\n",
       " 'aa',\n",
       " 'aal',\n",
       " 'aalii',\n",
       " 'aam',\n",
       " 'aani',\n",
       " 'aardvark',\n",
       " 'aardwolf',\n",
       " 'aaron']"
      ]
     },
     "execution_count": 37,
     "metadata": {},
     "output_type": "execute_result"
    }
   ],
   "source": [
    "wordclean[:10]"
   ]
  },
  {
   "cell_type": "code",
   "execution_count": 39,
   "metadata": {},
   "outputs": [],
   "source": [
    "wordclean = sorted(list(set([word.strip().lower() for word in open('words','r')])))"
   ]
  },
  {
   "cell_type": "code",
   "execution_count": 40,
   "metadata": {},
   "outputs": [
    {
     "data": {
      "text/plain": [
       "234371"
      ]
     },
     "execution_count": 40,
     "metadata": {},
     "output_type": "execute_result"
    }
   ],
   "source": [
    "len(wordclean)"
   ]
  },
  {
   "cell_type": "code",
   "execution_count": 17,
   "metadata": {},
   "outputs": [
    {
     "data": {
      "text/plain": [
       "['a',\n",
       " 'aa',\n",
       " 'aal',\n",
       " 'aalii',\n",
       " 'aam',\n",
       " 'aani',\n",
       " 'aardvark',\n",
       " 'aardwolf',\n",
       " 'aaron',\n",
       " 'aaronic']"
      ]
     },
     "execution_count": 17,
     "metadata": {},
     "output_type": "execute_result"
    }
   ],
   "source": [
    "wordclean[:10]"
   ]
  },
  {
   "cell_type": "code",
   "execution_count": 44,
   "metadata": {},
   "outputs": [
    {
     "data": {
      "text/plain": [
       "['e', 'i', 'l', 's', 'v']"
      ]
     },
     "execution_count": 44,
     "metadata": {},
     "output_type": "execute_result"
    }
   ],
   "source": [
    "# devolve os caracteres individuais\n",
    "sorted('lives')"
   ]
  },
  {
   "cell_type": "code",
   "execution_count": 46,
   "metadata": {},
   "outputs": [
    {
     "data": {
      "text/plain": [
       "list"
      ]
     },
     "execution_count": 46,
     "metadata": {},
     "output_type": "execute_result"
    }
   ],
   "source": [
    "# Mostra o tipo\n",
    "type(sorted('lives'))"
   ]
  },
  {
   "cell_type": "code",
   "execution_count": 48,
   "metadata": {},
   "outputs": [
    {
     "data": {
      "text/plain": [
       "True"
      ]
     },
     "execution_count": 48,
     "metadata": {},
     "output_type": "execute_result"
    }
   ],
   "source": [
    "# Avaliar os retornos do sorted() (anagramas)\n",
    "sorted('lives') == sorted('elvis')"
   ]
  },
  {
   "cell_type": "code",
   "execution_count": 49,
   "metadata": {},
   "outputs": [
    {
     "data": {
      "text/plain": [
       "False"
      ]
     },
     "execution_count": 49,
     "metadata": {},
     "output_type": "execute_result"
    }
   ],
   "source": [
    "# Avaliar os retornos do sorted() (anagramas)\n",
    "sorted('love') == sorted('hate')"
   ]
  },
  {
   "cell_type": "code",
   "execution_count": 50,
   "metadata": {},
   "outputs": [],
   "source": [
    "# Retornar uma string com os caracteres ordenados\n",
    "def signature(word):\n",
    "    return ''.join(sorted(word))"
   ]
  },
  {
   "cell_type": "code",
   "execution_count": 54,
   "metadata": {},
   "outputs": [
    {
     "data": {
      "text/plain": [
       "str"
      ]
     },
     "execution_count": 54,
     "metadata": {},
     "output_type": "execute_result"
    }
   ],
   "source": [
    "type(signature('lives'))"
   ]
  },
  {
   "cell_type": "code",
   "execution_count": 53,
   "metadata": {},
   "outputs": [
    {
     "data": {
      "text/plain": [
       "'eilsv'"
      ]
     },
     "execution_count": 53,
     "metadata": {},
     "output_type": "execute_result"
    }
   ],
   "source": [
    "signature('lives')"
   ]
  },
  {
   "cell_type": "code",
   "execution_count": 55,
   "metadata": {},
   "outputs": [
    {
     "data": {
      "text/plain": [
       "'a/b/c'"
      ]
     },
     "execution_count": 55,
     "metadata": {},
     "output_type": "execute_result"
    }
   ],
   "source": [
    "# Retorna uma string com o separador  informado\n",
    "'/'.join(['a','b','c'])"
   ]
  },
  {
   "cell_type": "code",
   "execution_count": 68,
   "metadata": {},
   "outputs": [],
   "source": [
    "# Retorna uma lista com as palavaras (anagramas) identificadas\n",
    "def anagram(word):\n",
    "    return [w for w in wordclean if signature(w) == signature(word)]"
   ]
  },
  {
   "cell_type": "code",
   "execution_count": 69,
   "metadata": {},
   "outputs": [
    {
     "data": {
      "text/plain": [
       "list"
      ]
     },
     "execution_count": 69,
     "metadata": {},
     "output_type": "execute_result"
    }
   ],
   "source": [
    "type(anagram('dictionary'))"
   ]
  },
  {
   "cell_type": "code",
   "execution_count": 70,
   "metadata": {},
   "outputs": [
    {
     "data": {
      "text/plain": [
       "['dictionary', 'indicatory']"
      ]
     },
     "execution_count": 70,
     "metadata": {},
     "output_type": "execute_result"
    }
   ],
   "source": [
    "anagram('dictionary')"
   ]
  },
  {
   "cell_type": "code",
   "execution_count": 71,
   "metadata": {},
   "outputs": [
    {
     "data": {
      "text/plain": [
       "['levo', 'love', 'velo', 'vole']"
      ]
     },
     "execution_count": 71,
     "metadata": {},
     "output_type": "execute_result"
    }
   ],
   "source": [
    "anagram('love')"
   ]
  },
  {
   "cell_type": "code",
   "execution_count": 73,
   "metadata": {},
   "outputs": [
    {
     "name": "stdout",
     "output_type": "stream",
     "text": [
      "358 ms ± 3.62 ms per loop (mean ± std. dev. of 7 runs, 1 loop each)\n"
     ]
    }
   ],
   "source": [
    "%timeit anagram('dictionary')"
   ]
  },
  {
   "cell_type": "markdown",
   "metadata": {},
   "source": [
    "\n",
    "#### Este código apresenta erro, pois, na primeira interação, a a word \"A\" não existe no dict, e então o erro\n",
    "\n",
    "```\n",
    "words_bysig = {}\n",
    "\n",
    "for word in wordclean:\n",
    "    words_bysig[signature(word)].append(word)\n",
    "    \n",
    "\n",
    "    ---------------------------------------------------------------------------\n",
    "KeyError                                  Traceback (most recent call last)\n",
    "<ipython-input-72-6fe0fd45403c> in <module>\n",
    "      2 \n",
    "      3 for word in wordclean:\n",
    "----> 4     words_bysig[signature(word)].append(word)\n",
    "\n",
    "KeyError: 'a'\n",
    "    \n",
    "\n",
    "```\n",
    "\n",
    "#### Utilizar a segunda versão, com collections, que retorna uma tipo default (uma lista[]) para quando o item nao existe no dict\n",
    "\n",
    "```\n",
    "import collections\n",
    "\n",
    "words_bysig = collections.defaultdict(list)\n",
    "\n",
    "for word in wordclean:\n",
    "    words_bysig[signature(word)].append(word)\n",
    "```\n"
   ]
  },
  {
   "cell_type": "code",
   "execution_count": 80,
   "metadata": {},
   "outputs": [],
   "source": [
    "import collections"
   ]
  },
  {
   "cell_type": "code",
   "execution_count": 81,
   "metadata": {},
   "outputs": [],
   "source": [
    "words_bysig = collections.defaultdict(list)\n",
    "\n",
    "for word in wordclean:\n",
    "    words_bysig[signature(word)].append(word)"
   ]
  },
  {
   "cell_type": "code",
   "execution_count": 106,
   "metadata": {},
   "outputs": [
    {
     "data": {
      "text/plain": [
       "collections.defaultdict"
      ]
     },
     "execution_count": 106,
     "metadata": {},
     "output_type": "execute_result"
    }
   ],
   "source": [
    "type(words_bysig)"
   ]
  },
  {
   "cell_type": "code",
   "execution_count": 107,
   "metadata": {},
   "outputs": [
    {
     "data": {
      "text/plain": [
       "collections.defaultdict"
      ]
     },
     "execution_count": 107,
     "metadata": {},
     "output_type": "execute_result"
    }
   ],
   "source": [
    "type(words_bysig)"
   ]
  },
  {
   "cell_type": "code",
   "execution_count": 110,
   "metadata": {},
   "outputs": [],
   "source": [
    "def anagram_fast(myword):\n",
    "    return words_bysig[signature(myword)]"
   ]
  },
  {
   "cell_type": "code",
   "execution_count": 111,
   "metadata": {},
   "outputs": [
    {
     "data": {
      "text/plain": [
       "['dictionary', 'indicatory']"
      ]
     },
     "execution_count": 111,
     "metadata": {},
     "output_type": "execute_result"
    }
   ],
   "source": [
    "anagram_fast('dictionary')"
   ]
  },
  {
   "cell_type": "code",
   "execution_count": 112,
   "metadata": {},
   "outputs": [
    {
     "name": "stdout",
     "output_type": "stream",
     "text": [
      "844 ns ± 23.2 ns per loop (mean ± std. dev. of 7 runs, 1000000 loops each)\n"
     ]
    }
   ],
   "source": [
    "%timeit anagram_fast('dictionary')"
   ]
  },
  {
   "cell_type": "code",
   "execution_count": 114,
   "metadata": {},
   "outputs": [],
   "source": [
    "anagrams_all = {word: anagram_fast(word) for word in wordclean if len(anagram_fast(word)) > 1}"
   ]
  },
  {
   "cell_type": "code",
   "execution_count": 115,
   "metadata": {},
   "outputs": [
    {
     "data": {
      "text/plain": [
       "32890"
      ]
     },
     "execution_count": 115,
     "metadata": {},
     "output_type": "execute_result"
    }
   ],
   "source": [
    "len(anagrams_all)"
   ]
  },
  {
   "cell_type": "code",
   "execution_count": 118,
   "metadata": {},
   "outputs": [
    {
     "name": "stdout",
     "output_type": "stream",
     "text": [
      "300 ms ± 5.13 ms per loop (mean ± std. dev. of 7 runs, 1 loop each)\n"
     ]
    }
   ],
   "source": [
    "%timeit anagrams_all = {word: anagram_fast(word) for word in wordclean if len(anagram_fast(word)) > 1}"
   ]
  },
  {
   "cell_type": "code",
   "execution_count": null,
   "metadata": {},
   "outputs": [],
   "source": []
  }
 ],
 "metadata": {
  "kernelspec": {
   "display_name": "Python 3",
   "language": "python",
   "name": "python3"
  },
  "language_info": {
   "codemirror_mode": {
    "name": "ipython",
    "version": 3
   },
   "file_extension": ".py",
   "mimetype": "text/x-python",
   "name": "python",
   "nbconvert_exporter": "python",
   "pygments_lexer": "ipython3",
   "version": "3.7.1"
  }
 },
 "nbformat": 4,
 "nbformat_minor": 1
}
