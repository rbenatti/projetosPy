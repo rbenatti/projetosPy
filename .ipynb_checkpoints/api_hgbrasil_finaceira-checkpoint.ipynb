{
 "cells": [
  {
   "cell_type": "markdown",
   "metadata": {},
   "source": [
    "# 1. Estrutura do script notebook\n",
    "\n",
    "\n",
    "## 1.1 definir o _endpoit_ da _API_\n",
    "```\n",
    "api_uri = 'https://api.hgbrasil.com/finance?array_limit=1&fields=only_results,currencies&key=8ba3aeb2'\n",
    "```\n",
    "\n",
    "## 1.2 Executar a chamada ao método _HTTP GET_ e armazenar em resposta\n",
    "```\n",
    "resposta = requests.get(api_uri)\n",
    "```\n",
    "\n",
    "## 1.3 Validar o código mensagem http error (200 - sucesso)\n",
    "```\n",
    "resposta.status_code\n",
    "```\n",
    "\n",
    "## 1.4 Gerar um _DataFrame_ com a resposta json da _API_\n",
    "```\n",
    "df = pd.DataFrame(resposta.json())\n",
    "```\n",
    "\n",
    "## 1.5 Mostrar o _DataFrame_ da resposta recebida\n",
    "```\n",
    "df\n",
    "```"
   ]
  },
  {
   "cell_type": "markdown",
   "metadata": {},
   "source": [
    "# Capturar informações sobre MOEDAS via API HG Brasil   "
   ]
  },
  {
   "cell_type": "markdown",
   "metadata": {},
   "source": [
    "- Importar as bibliotecas"
   ]
  },
  {
   "cell_type": "code",
   "execution_count": 30,
   "metadata": {},
   "outputs": [],
   "source": [
    "import pandas as pd\n",
    "import requests"
   ]
  },
  {
   "cell_type": "markdown",
   "metadata": {},
   "source": [
    "- Definir o _endpoint_ para API HG Brasil Finance"
   ]
  },
  {
   "cell_type": "code",
   "execution_count": 31,
   "metadata": {},
   "outputs": [],
   "source": [
    "api_uri1 = 'https://api.hgbrasil.com/finance?format=json-cors&key=8ba3aeb2'\n",
    "resposta1 = requests.get(api_uri1)"
   ]
  },
  {
   "cell_type": "markdown",
   "metadata": {},
   "source": [
    "- Testar o código da resposta (200 sucesso)"
   ]
  },
  {
   "cell_type": "code",
   "execution_count": 32,
   "metadata": {},
   "outputs": [
    {
     "data": {
      "text/plain": [
       "200"
      ]
     },
     "execution_count": 32,
     "metadata": {},
     "output_type": "execute_result"
    }
   ],
   "source": [
    "resposta1.status_code"
   ]
  },
  {
   "cell_type": "markdown",
   "metadata": {},
   "source": [
    "- Display (raw) da resposta recebida, formato JSON"
   ]
  },
  {
   "cell_type": "code",
   "execution_count": 33,
   "metadata": {},
   "outputs": [
    {
     "data": {
      "text/plain": [
       "'{\"by\":\"default\",\"valid_key\":true,\"results\":{\"currencies\":{\"source\":\"BRL\",\"USD\":{\"name\":\"Dollar\",\"buy\":4.3184,\"sell\":4.3185,\"variation\":-0.06},\"EUR\":{\"name\":\"Euro\",\"buy\":4.7148,\"sell\":4.714,\"variation\":-0.334},\"GBP\":{\"name\":\"Pound Sterling\",\"buy\":5.5778,\"sell\":null,\"variation\":0.153},\"ARS\":{\"name\":\"Argentine Peso\",\"buy\":0.0708,\"sell\":null,\"variation\":-0.562},\"BTC\":{\"name\":\"Bitcoin\",\"buy\":45040.442,\"sell\":45040.442,\"variation\":1.104}},\"stocks\":{\"IBOVESPA\":{\"name\":\"BM\\\\u0026F BOVESPA\",\"location\":\"Sao Paulo, Brazil\",\"points\":112355.602,\"variation\":-1.24},\"NASDAQ\":{\"name\":\"NASDAQ Stock Market\",\"location\":\"New York City, United States\",\"points\":9573.41,\"variation\":0.56},\"CAC\":{\"name\":\"CAC 40\",\"location\":\"Paris, French\",\"variation\":-0.23},\"NIKKEI\":{\"name\":\"Nikkei 225\",\"location\":\"Tokyo, Japan\",\"variation\":-0.6}},\"available_sources\":[\"BRL\"],\"bitcoin\":{\"blockchain_info\":{\"name\":\"Blockchain.info\",\"format\":[\"USD\",\"en_US\"],\"last\":9839.52,\"buy\":9839.52,\"sell\":9839.52,\"variation\":1.104},\"coinbase\":{\"name\":\"Coinbase\",\"format\":[\"USD\",\"en_US\"],\"last\":9844.285,\"variation\":1.071},\"bitstamp\":{\"name\":\"BitStamp\",\"format\":[\"USD\",\"en_US\"],\"last\":9842.05,\"buy\":9843.6,\"sell\":9834.99,\"variation\":1.116},\"foxbit\":{\"name\":\"FoxBit\",\"format\":[\"BRL\",\"pt_BR\"],\"last\":42569.27,\"variation\":0.616},\"mercadobitcoin\":{\"name\":\"Mercado Bitcoin\",\"format\":[\"BRL\",\"pt_BR\"],\"last\":42500.00004,\"buy\":42500.00004,\"sell\":42699.77928,\"variation\":1.032},\"omnitrade\":{\"name\":\"OmniTrade\",\"format\":[\"BRL\",\"pt_BR\"],\"last\":42800.0,\"buy\":42800.0,\"sell\":43300.0,\"variation\":0.943},\"xdex\":{\"name\":\"XDEX\",\"format\":[\"BRL\",\"pt_BR\"],\"last\":42224.9,\"variation\":1.429}},\"taxes\":[{\"date\":\"2020-02-07\",\"cdi\":4.15,\"selic\":4.15,\"daily_factor\":1.00016137}]},\"execution_time\":0.0,\"from_cache\":true}'"
      ]
     },
     "execution_count": 33,
     "metadata": {},
     "output_type": "execute_result"
    }
   ],
   "source": [
    "resposta1.text"
   ]
  },
  {
   "cell_type": "markdown",
   "metadata": {},
   "source": [
    "- Converter o json recebido como DataFrame"
   ]
  },
  {
   "cell_type": "code",
   "execution_count": 34,
   "metadata": {},
   "outputs": [],
   "source": [
    "df1 = pd.DataFrame(resposta1.json())"
   ]
  },
  {
   "cell_type": "code",
   "execution_count": 35,
   "metadata": {},
   "outputs": [
    {
     "data": {
      "text/html": [
       "<div>\n",
       "<style scoped>\n",
       "    .dataframe tbody tr th:only-of-type {\n",
       "        vertical-align: middle;\n",
       "    }\n",
       "\n",
       "    .dataframe tbody tr th {\n",
       "        vertical-align: top;\n",
       "    }\n",
       "\n",
       "    .dataframe thead th {\n",
       "        text-align: right;\n",
       "    }\n",
       "</style>\n",
       "<table border=\"1\" class=\"dataframe\">\n",
       "  <thead>\n",
       "    <tr style=\"text-align: right;\">\n",
       "      <th></th>\n",
       "      <th>by</th>\n",
       "      <th>valid_key</th>\n",
       "      <th>results</th>\n",
       "      <th>execution_time</th>\n",
       "      <th>from_cache</th>\n",
       "    </tr>\n",
       "  </thead>\n",
       "  <tbody>\n",
       "    <tr>\n",
       "      <th>available_sources</th>\n",
       "      <td>default</td>\n",
       "      <td>True</td>\n",
       "      <td>[BRL]</td>\n",
       "      <td>0.0</td>\n",
       "      <td>True</td>\n",
       "    </tr>\n",
       "    <tr>\n",
       "      <th>bitcoin</th>\n",
       "      <td>default</td>\n",
       "      <td>True</td>\n",
       "      <td>{'blockchain_info': {'name': 'Blockchain.info'...</td>\n",
       "      <td>0.0</td>\n",
       "      <td>True</td>\n",
       "    </tr>\n",
       "    <tr>\n",
       "      <th>currencies</th>\n",
       "      <td>default</td>\n",
       "      <td>True</td>\n",
       "      <td>{'source': 'BRL', 'USD': {'name': 'Dollar', 'b...</td>\n",
       "      <td>0.0</td>\n",
       "      <td>True</td>\n",
       "    </tr>\n",
       "    <tr>\n",
       "      <th>stocks</th>\n",
       "      <td>default</td>\n",
       "      <td>True</td>\n",
       "      <td>{'IBOVESPA': {'name': 'BM&amp;F BOVESPA', 'locatio...</td>\n",
       "      <td>0.0</td>\n",
       "      <td>True</td>\n",
       "    </tr>\n",
       "    <tr>\n",
       "      <th>taxes</th>\n",
       "      <td>default</td>\n",
       "      <td>True</td>\n",
       "      <td>[{'date': '2020-02-07', 'cdi': 4.15, 'selic': ...</td>\n",
       "      <td>0.0</td>\n",
       "      <td>True</td>\n",
       "    </tr>\n",
       "  </tbody>\n",
       "</table>\n",
       "</div>"
      ],
      "text/plain": [
       "                        by  valid_key  \\\n",
       "available_sources  default       True   \n",
       "bitcoin            default       True   \n",
       "currencies         default       True   \n",
       "stocks             default       True   \n",
       "taxes              default       True   \n",
       "\n",
       "                                                             results  \\\n",
       "available_sources                                              [BRL]   \n",
       "bitcoin            {'blockchain_info': {'name': 'Blockchain.info'...   \n",
       "currencies         {'source': 'BRL', 'USD': {'name': 'Dollar', 'b...   \n",
       "stocks             {'IBOVESPA': {'name': 'BM&F BOVESPA', 'locatio...   \n",
       "taxes              [{'date': '2020-02-07', 'cdi': 4.15, 'selic': ...   \n",
       "\n",
       "                   execution_time  from_cache  \n",
       "available_sources             0.0        True  \n",
       "bitcoin                       0.0        True  \n",
       "currencies                    0.0        True  \n",
       "stocks                        0.0        True  \n",
       "taxes                         0.0        True  "
      ]
     },
     "execution_count": 35,
     "metadata": {},
     "output_type": "execute_result"
    }
   ],
   "source": [
    "df1"
   ]
  },
  {
   "cell_type": "code",
   "execution_count": 36,
   "metadata": {},
   "outputs": [
    {
     "data": {
      "text/plain": [
       "available_sources    default\n",
       "bitcoin              default\n",
       "currencies           default\n",
       "stocks               default\n",
       "taxes                default\n",
       "Name: by, dtype: object"
      ]
     },
     "execution_count": 36,
     "metadata": {},
     "output_type": "execute_result"
    }
   ],
   "source": [
    "df1['by']"
   ]
  },
  {
   "cell_type": "code",
   "execution_count": 37,
   "metadata": {},
   "outputs": [
    {
     "data": {
      "text/plain": [
       "available_sources    True\n",
       "bitcoin              True\n",
       "currencies           True\n",
       "stocks               True\n",
       "taxes                True\n",
       "Name: valid_key, dtype: bool"
      ]
     },
     "execution_count": 37,
     "metadata": {},
     "output_type": "execute_result"
    }
   ],
   "source": [
    "df1['valid_key']"
   ]
  },
  {
   "cell_type": "code",
   "execution_count": 38,
   "metadata": {},
   "outputs": [
    {
     "data": {
      "text/plain": [
       "available_sources                                                [BRL]\n",
       "bitcoin              {'blockchain_info': {'name': 'Blockchain.info'...\n",
       "currencies           {'source': 'BRL', 'USD': {'name': 'Dollar', 'b...\n",
       "stocks               {'IBOVESPA': {'name': 'BM&F BOVESPA', 'locatio...\n",
       "taxes                [{'date': '2020-02-07', 'cdi': 4.15, 'selic': ...\n",
       "Name: results, dtype: object"
      ]
     },
     "execution_count": 38,
     "metadata": {},
     "output_type": "execute_result"
    }
   ],
   "source": [
    "df1['results']"
   ]
  },
  {
   "cell_type": "code",
   "execution_count": 39,
   "metadata": {
    "scrolled": true
   },
   "outputs": [
    {
     "data": {
      "text/plain": [
       "{'blockchain_info': {'name': 'Blockchain.info',\n",
       "  'format': ['USD', 'en_US'],\n",
       "  'last': 9839.52,\n",
       "  'buy': 9839.52,\n",
       "  'sell': 9839.52,\n",
       "  'variation': 1.104},\n",
       " 'coinbase': {'name': 'Coinbase',\n",
       "  'format': ['USD', 'en_US'],\n",
       "  'last': 9844.285,\n",
       "  'variation': 1.071},\n",
       " 'bitstamp': {'name': 'BitStamp',\n",
       "  'format': ['USD', 'en_US'],\n",
       "  'last': 9842.05,\n",
       "  'buy': 9843.6,\n",
       "  'sell': 9834.99,\n",
       "  'variation': 1.116},\n",
       " 'foxbit': {'name': 'FoxBit',\n",
       "  'format': ['BRL', 'pt_BR'],\n",
       "  'last': 42569.27,\n",
       "  'variation': 0.616},\n",
       " 'mercadobitcoin': {'name': 'Mercado Bitcoin',\n",
       "  'format': ['BRL', 'pt_BR'],\n",
       "  'last': 42500.00004,\n",
       "  'buy': 42500.00004,\n",
       "  'sell': 42699.77928,\n",
       "  'variation': 1.032},\n",
       " 'omnitrade': {'name': 'OmniTrade',\n",
       "  'format': ['BRL', 'pt_BR'],\n",
       "  'last': 42800.0,\n",
       "  'buy': 42800.0,\n",
       "  'sell': 43300.0,\n",
       "  'variation': 0.943},\n",
       " 'xdex': {'name': 'XDEX',\n",
       "  'format': ['BRL', 'pt_BR'],\n",
       "  'last': 42224.9,\n",
       "  'variation': 1.429}}"
      ]
     },
     "execution_count": 39,
     "metadata": {},
     "output_type": "execute_result"
    }
   ],
   "source": [
    "df1['results']['bitcoin']"
   ]
  },
  {
   "cell_type": "code",
   "execution_count": 40,
   "metadata": {},
   "outputs": [
    {
     "data": {
      "text/plain": [
       "{'source': 'BRL',\n",
       " 'USD': {'name': 'Dollar', 'buy': 4.3184, 'sell': 4.3185, 'variation': -0.06},\n",
       " 'EUR': {'name': 'Euro', 'buy': 4.7148, 'sell': 4.714, 'variation': -0.334},\n",
       " 'GBP': {'name': 'Pound Sterling',\n",
       "  'buy': 5.5778,\n",
       "  'sell': None,\n",
       "  'variation': 0.153},\n",
       " 'ARS': {'name': 'Argentine Peso',\n",
       "  'buy': 0.0708,\n",
       "  'sell': None,\n",
       "  'variation': -0.562},\n",
       " 'BTC': {'name': 'Bitcoin',\n",
       "  'buy': 45040.442,\n",
       "  'sell': 45040.442,\n",
       "  'variation': 1.104}}"
      ]
     },
     "execution_count": 40,
     "metadata": {},
     "output_type": "execute_result"
    }
   ],
   "source": [
    "df1['results']['currencies']"
   ]
  },
  {
   "cell_type": "code",
   "execution_count": 41,
   "metadata": {},
   "outputs": [
    {
     "data": {
      "text/plain": [
       "{'name': 'Dollar', 'buy': 4.3184, 'sell': 4.3185, 'variation': -0.06}"
      ]
     },
     "execution_count": 41,
     "metadata": {},
     "output_type": "execute_result"
    }
   ],
   "source": [
    "df1['results']['currencies']['USD']"
   ]
  },
  {
   "cell_type": "code",
   "execution_count": 42,
   "metadata": {},
   "outputs": [
    {
     "data": {
      "text/plain": [
       "'Dollar'"
      ]
     },
     "execution_count": 42,
     "metadata": {},
     "output_type": "execute_result"
    }
   ],
   "source": [
    "df1['results']['currencies']['USD']['name']"
   ]
  },
  {
   "cell_type": "code",
   "execution_count": 43,
   "metadata": {},
   "outputs": [
    {
     "data": {
      "text/plain": [
       "4.3184"
      ]
     },
     "execution_count": 43,
     "metadata": {},
     "output_type": "execute_result"
    }
   ],
   "source": [
    "df1['results']['currencies']['USD']['buy']"
   ]
  },
  {
   "cell_type": "code",
   "execution_count": 44,
   "metadata": {},
   "outputs": [
    {
     "data": {
      "text/plain": [
       "4.3185"
      ]
     },
     "execution_count": 44,
     "metadata": {},
     "output_type": "execute_result"
    }
   ],
   "source": [
    "df1['results']['currencies']['USD']['sell']"
   ]
  },
  {
   "cell_type": "code",
   "execution_count": 45,
   "metadata": {},
   "outputs": [],
   "source": [
    "api_uri2 = 'https://api.hgbrasil.com/finance?array_limit=1&fields=only_results,currencies&key=8ba3aeb2'\n",
    "resposta2 = requests.get(api_uri2)"
   ]
  },
  {
   "cell_type": "code",
   "execution_count": 46,
   "metadata": {},
   "outputs": [
    {
     "data": {
      "text/plain": [
       "200"
      ]
     },
     "execution_count": 46,
     "metadata": {},
     "output_type": "execute_result"
    }
   ],
   "source": [
    "resposta2.status_code"
   ]
  },
  {
   "cell_type": "code",
   "execution_count": 47,
   "metadata": {},
   "outputs": [
    {
     "data": {
      "text/plain": [
       "'{\"currencies\":{\"source\":\"BRL\",\"USD\":{\"name\":\"Dollar\",\"buy\":4.3184,\"sell\":4.3185,\"variation\":-0.06},\"EUR\":{\"name\":\"Euro\",\"buy\":4.7148,\"sell\":4.714,\"variation\":-0.334},\"GBP\":{\"name\":\"Pound Sterling\",\"buy\":5.5778,\"sell\":null,\"variation\":0.153},\"ARS\":{\"name\":\"Argentine Peso\",\"buy\":0.0708,\"sell\":null,\"variation\":-0.562},\"BTC\":{\"name\":\"Bitcoin\",\"buy\":45040.442,\"sell\":45040.442,\"variation\":1.104}}}'"
      ]
     },
     "execution_count": 47,
     "metadata": {},
     "output_type": "execute_result"
    }
   ],
   "source": [
    "resposta2.text"
   ]
  },
  {
   "cell_type": "code",
   "execution_count": 48,
   "metadata": {},
   "outputs": [],
   "source": [
    "df2 = pd.DataFrame(resposta2.json())['currencies']"
   ]
  },
  {
   "cell_type": "code",
   "execution_count": 49,
   "metadata": {},
   "outputs": [
    {
     "data": {
      "text/html": [
       "<div>\n",
       "<style scoped>\n",
       "    .dataframe tbody tr th:only-of-type {\n",
       "        vertical-align: middle;\n",
       "    }\n",
       "\n",
       "    .dataframe tbody tr th {\n",
       "        vertical-align: top;\n",
       "    }\n",
       "\n",
       "    .dataframe thead th {\n",
       "        text-align: right;\n",
       "    }\n",
       "</style>\n",
       "<table border=\"1\" class=\"dataframe\">\n",
       "  <thead>\n",
       "    <tr style=\"text-align: right;\">\n",
       "      <th></th>\n",
       "      <th>currencies</th>\n",
       "    </tr>\n",
       "  </thead>\n",
       "  <tbody>\n",
       "    <tr>\n",
       "      <th>ARS</th>\n",
       "      <td>{'name': 'Argentine Peso', 'buy': 0.0708, 'sel...</td>\n",
       "    </tr>\n",
       "    <tr>\n",
       "      <th>BTC</th>\n",
       "      <td>{'name': 'Bitcoin', 'buy': 45040.442, 'sell': ...</td>\n",
       "    </tr>\n",
       "    <tr>\n",
       "      <th>EUR</th>\n",
       "      <td>{'name': 'Euro', 'buy': 4.7148, 'sell': 4.714,...</td>\n",
       "    </tr>\n",
       "    <tr>\n",
       "      <th>GBP</th>\n",
       "      <td>{'name': 'Pound Sterling', 'buy': 5.5778, 'sel...</td>\n",
       "    </tr>\n",
       "    <tr>\n",
       "      <th>USD</th>\n",
       "      <td>{'name': 'Dollar', 'buy': 4.3184, 'sell': 4.31...</td>\n",
       "    </tr>\n",
       "    <tr>\n",
       "      <th>source</th>\n",
       "      <td>BRL</td>\n",
       "    </tr>\n",
       "  </tbody>\n",
       "</table>\n",
       "</div>"
      ],
      "text/plain": [
       "                                               currencies\n",
       "ARS     {'name': 'Argentine Peso', 'buy': 0.0708, 'sel...\n",
       "BTC     {'name': 'Bitcoin', 'buy': 45040.442, 'sell': ...\n",
       "EUR     {'name': 'Euro', 'buy': 4.7148, 'sell': 4.714,...\n",
       "GBP     {'name': 'Pound Sterling', 'buy': 5.5778, 'sel...\n",
       "USD     {'name': 'Dollar', 'buy': 4.3184, 'sell': 4.31...\n",
       "source                                                BRL"
      ]
     },
     "execution_count": 49,
     "metadata": {},
     "output_type": "execute_result"
    }
   ],
   "source": [
    "df2.to_frame()"
   ]
  },
  {
   "cell_type": "code",
   "execution_count": 50,
   "metadata": {},
   "outputs": [
    {
     "data": {
      "text/plain": [
       "6"
      ]
     },
     "execution_count": 50,
     "metadata": {},
     "output_type": "execute_result"
    }
   ],
   "source": [
    "df2.count()"
   ]
  },
  {
   "cell_type": "code",
   "execution_count": 51,
   "metadata": {},
   "outputs": [
    {
     "data": {
      "text/plain": [
       "{'name': 'Argentine Peso', 'buy': 0.0708, 'sell': None, 'variation': -0.562}"
      ]
     },
     "execution_count": 51,
     "metadata": {},
     "output_type": "execute_result"
    }
   ],
   "source": [
    "df2['ARS']"
   ]
  },
  {
   "cell_type": "code",
   "execution_count": 52,
   "metadata": {},
   "outputs": [
    {
     "name": "stdout",
     "output_type": "stream",
     "text": [
      "Argentine Peso\n"
     ]
    }
   ],
   "source": [
    "print(df2['ARS']['name'])"
   ]
  },
  {
   "cell_type": "code",
   "execution_count": 53,
   "metadata": {},
   "outputs": [
    {
     "name": "stdout",
     "output_type": "stream",
     "text": [
      "0.0708\n"
     ]
    }
   ],
   "source": [
    "print(df2['ARS']['buy'])"
   ]
  },
  {
   "cell_type": "code",
   "execution_count": 54,
   "metadata": {},
   "outputs": [
    {
     "data": {
      "text/plain": [
       "NoneType"
      ]
     },
     "execution_count": 54,
     "metadata": {},
     "output_type": "execute_result"
    }
   ],
   "source": [
    "type(df2['ARS']['sell'])"
   ]
  },
  {
   "cell_type": "code",
   "execution_count": 55,
   "metadata": {},
   "outputs": [
    {
     "name": "stdout",
     "output_type": "stream",
     "text": [
      "None\n"
     ]
    }
   ],
   "source": [
    "print(df2['ARS']['sell'])"
   ]
  },
  {
   "cell_type": "code",
   "execution_count": 56,
   "metadata": {},
   "outputs": [
    {
     "data": {
      "text/plain": [
       "-0.562"
      ]
     },
     "execution_count": 56,
     "metadata": {},
     "output_type": "execute_result"
    }
   ],
   "source": [
    "df2['ARS']['variation']"
   ]
  }
 ],
 "metadata": {
  "kernelspec": {
   "display_name": "Python 3",
   "language": "python",
   "name": "python3"
  },
  "language_info": {
   "codemirror_mode": {
    "name": "ipython",
    "version": 3
   },
   "file_extension": ".py",
   "mimetype": "text/x-python",
   "name": "python",
   "nbconvert_exporter": "python",
   "pygments_lexer": "ipython3",
   "version": "3.7.1"
  }
 },
 "nbformat": 4,
 "nbformat_minor": 2
}
