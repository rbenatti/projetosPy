{
 "cells": [
  {
   "cell_type": "markdown",
   "metadata": {},
   "source": [
    "# 1. Estrutura do script notebook\n",
    "\n",
    "\n",
    "## 1.1 definir o _endpoit_ da _API_\n",
    "```\n",
    "api_uri = 'https://api.hgbrasil.com/finance?array_limit=1&fields=only_results,currencies&key=8ba3aeb2'\n",
    "```\n",
    "\n",
    "## 1.2 Executar a chamada ao método _HTTP GET_ e armazenar em resposta\n",
    "```\n",
    "resposta = requests.get(api_uri)\n",
    "```\n",
    "\n",
    "## 1.3 Validar o código mensagem http error (200 - sucesso)\n",
    "```\n",
    "resposta.status_code\n",
    "```\n",
    "\n",
    "## 1.4 Gerar um _DataFrame_ com a resposta json da _API_\n",
    "```\n",
    "df = pd.DataFrame(resposta.json())\n",
    "```\n",
    "\n",
    "## 1.5 Mostrar o _DataFrame_ da resposta recebida\n",
    "```\n",
    "df\n",
    "```"
   ]
  },
  {
   "cell_type": "markdown",
   "metadata": {},
   "source": [
    "# Capturar informações sobre MOEDAS via API HG Brasil   "
   ]
  },
  {
   "cell_type": "markdown",
   "metadata": {},
   "source": [
    "- Importar as bibliotecas"
   ]
  },
  {
   "cell_type": "code",
   "execution_count": 154,
   "metadata": {},
   "outputs": [],
   "source": [
    "import pandas as pd\n",
    "import requests"
   ]
  },
  {
   "cell_type": "markdown",
   "metadata": {},
   "source": [
    "- Definir o _endpoint_ para API HG Brasil Finance"
   ]
  },
  {
   "cell_type": "code",
   "execution_count": 155,
   "metadata": {},
   "outputs": [],
   "source": [
    "api_uri1 = 'https://api.hgbrasil.com/finance?format=json-cors&key=8ba3aeb2'\n",
    "resposta1 = requests.get(api_uri1)"
   ]
  },
  {
   "cell_type": "markdown",
   "metadata": {},
   "source": [
    "- Testar o código da resposta (200 sucesso)"
   ]
  },
  {
   "cell_type": "code",
   "execution_count": 156,
   "metadata": {},
   "outputs": [
    {
     "data": {
      "text/plain": [
       "200"
      ]
     },
     "execution_count": 156,
     "metadata": {},
     "output_type": "execute_result"
    }
   ],
   "source": [
    "resposta1.status_code"
   ]
  },
  {
   "cell_type": "markdown",
   "metadata": {},
   "source": [
    "- Display (raw) da resposta recebida, formato JSON"
   ]
  },
  {
   "cell_type": "code",
   "execution_count": 157,
   "metadata": {},
   "outputs": [
    {
     "data": {
      "text/plain": [
       "u'{\"by\":\"default\",\"valid_key\":true,\"results\":{\"currencies\":{\"source\":\"BRL\",\"USD\":{\"name\":\"Dollar\",\"buy\":4.3184,\"sell\":4.3189,\"variation\":-0.06},\"EUR\":{\"name\":\"Euro\",\"buy\":4.7291,\"sell\":4.7281,\"variation\":-0.032},\"GBP\":{\"name\":\"Pound Sterling\",\"buy\":5.5851,\"sell\":null,\"variation\":0.284},\"ARS\":{\"name\":\"Argentine Peso\",\"buy\":0.0713,\"sell\":null,\"variation\":0.14},\"BTC\":{\"name\":\"Bitcoin\",\"buy\":45058.706,\"sell\":45058.706,\"variation\":1.145}},\"stocks\":{\"IBOVESPA\":{\"name\":\"BM\\\\u0026F BOVESPA\",\"location\":\"Sao Paulo, Brazil\",\"points\":113754.898,\"variation\":-0.01},\"NASDAQ\":{\"name\":\"NASDAQ Stock Market\",\"location\":\"New York City, United States\",\"points\":9520.51,\"variation\":-0.54},\"CAC\":{\"name\":\"CAC 40\",\"location\":\"Paris, French\",\"variation\":-0.35},\"NIKKEI\":{\"name\":\"Nikkei 225\",\"location\":\"Tokyo, Japan\",\"variation\":-0.6}},\"available_sources\":[\"BRL\"],\"bitcoin\":{\"blockchain_info\":{\"name\":\"Blockchain.info\",\"format\":[\"USD\",\"en_US\"],\"last\":9843.51,\"buy\":9843.51,\"sell\":9843.51,\"variation\":1.145},\"coinbase\":{\"name\":\"Coinbase\",\"format\":[\"USD\",\"en_US\"],\"last\":9828.61,\"variation\":0.91},\"bitstamp\":{\"name\":\"BitStamp\",\"format\":[\"USD\",\"en_US\"],\"last\":9840.0,\"buy\":9840.93,\"sell\":9835.0,\"variation\":1.095},\"foxbit\":{\"name\":\"FoxBit\",\"format\":[\"BRL\",\"pt_BR\"],\"last\":42015.76,\"variation\":-0.692},\"mercadobitcoin\":{\"name\":\"Mercado Bitcoin\",\"format\":[\"BRL\",\"pt_BR\"],\"last\":42336.49992,\"buy\":42001.02004,\"sell\":42336.47985,\"variation\":0.643},\"omnitrade\":{\"name\":\"OmniTrade\",\"format\":[\"BRL\",\"pt_BR\"],\"last\":42887.37,\"buy\":42400.0,\"sell\":43000.0,\"variation\":1.149},\"xdex\":{\"name\":\"XDEX\",\"format\":[\"BRL\",\"pt_BR\"],\"last\":41905.0,\"variation\":0.661}},\"taxes\":[{\"date\":\"2020-02-06\",\"cdi\":4.15,\"selic\":4.15,\"daily_factor\":1.00016137}]},\"execution_time\":0.0,\"from_cache\":true}'"
      ]
     },
     "execution_count": 157,
     "metadata": {},
     "output_type": "execute_result"
    }
   ],
   "source": [
    "resposta1.text"
   ]
  },
  {
   "cell_type": "markdown",
   "metadata": {},
   "source": [
    "- Converter o json recebido como DataFrame"
   ]
  },
  {
   "cell_type": "code",
   "execution_count": 158,
   "metadata": {},
   "outputs": [],
   "source": [
    "df1 = pd.DataFrame(resposta1.json())"
   ]
  },
  {
   "cell_type": "code",
   "execution_count": 159,
   "metadata": {},
   "outputs": [
    {
     "data": {
      "text/html": [
       "<div>\n",
       "<style scoped>\n",
       "    .dataframe tbody tr th:only-of-type {\n",
       "        vertical-align: middle;\n",
       "    }\n",
       "\n",
       "    .dataframe tbody tr th {\n",
       "        vertical-align: top;\n",
       "    }\n",
       "\n",
       "    .dataframe thead th {\n",
       "        text-align: right;\n",
       "    }\n",
       "</style>\n",
       "<table border=\"1\" class=\"dataframe\">\n",
       "  <thead>\n",
       "    <tr style=\"text-align: right;\">\n",
       "      <th></th>\n",
       "      <th>by</th>\n",
       "      <th>execution_time</th>\n",
       "      <th>from_cache</th>\n",
       "      <th>results</th>\n",
       "      <th>valid_key</th>\n",
       "    </tr>\n",
       "  </thead>\n",
       "  <tbody>\n",
       "    <tr>\n",
       "      <th>available_sources</th>\n",
       "      <td>default</td>\n",
       "      <td>0.0</td>\n",
       "      <td>True</td>\n",
       "      <td>[BRL]</td>\n",
       "      <td>True</td>\n",
       "    </tr>\n",
       "    <tr>\n",
       "      <th>bitcoin</th>\n",
       "      <td>default</td>\n",
       "      <td>0.0</td>\n",
       "      <td>True</td>\n",
       "      <td>{u'omnitrade': {u'sell': 43000.0, u'buy': 4240...</td>\n",
       "      <td>True</td>\n",
       "    </tr>\n",
       "    <tr>\n",
       "      <th>currencies</th>\n",
       "      <td>default</td>\n",
       "      <td>0.0</td>\n",
       "      <td>True</td>\n",
       "      <td>{u'ARS': {u'sell': None, u'buy': 0.0713, u'nam...</td>\n",
       "      <td>True</td>\n",
       "    </tr>\n",
       "    <tr>\n",
       "      <th>stocks</th>\n",
       "      <td>default</td>\n",
       "      <td>0.0</td>\n",
       "      <td>True</td>\n",
       "      <td>{u'CAC': {u'name': u'CAC 40', u'variation': -0...</td>\n",
       "      <td>True</td>\n",
       "    </tr>\n",
       "    <tr>\n",
       "      <th>taxes</th>\n",
       "      <td>default</td>\n",
       "      <td>0.0</td>\n",
       "      <td>True</td>\n",
       "      <td>[{u'date': u'2020-02-06', u'daily_factor': 1.0...</td>\n",
       "      <td>True</td>\n",
       "    </tr>\n",
       "  </tbody>\n",
       "</table>\n",
       "</div>"
      ],
      "text/plain": [
       "                        by  execution_time  from_cache  \\\n",
       "available_sources  default             0.0        True   \n",
       "bitcoin            default             0.0        True   \n",
       "currencies         default             0.0        True   \n",
       "stocks             default             0.0        True   \n",
       "taxes              default             0.0        True   \n",
       "\n",
       "                                                             results  \\\n",
       "available_sources                                              [BRL]   \n",
       "bitcoin            {u'omnitrade': {u'sell': 43000.0, u'buy': 4240...   \n",
       "currencies         {u'ARS': {u'sell': None, u'buy': 0.0713, u'nam...   \n",
       "stocks             {u'CAC': {u'name': u'CAC 40', u'variation': -0...   \n",
       "taxes              [{u'date': u'2020-02-06', u'daily_factor': 1.0...   \n",
       "\n",
       "                   valid_key  \n",
       "available_sources       True  \n",
       "bitcoin                 True  \n",
       "currencies              True  \n",
       "stocks                  True  \n",
       "taxes                   True  "
      ]
     },
     "execution_count": 159,
     "metadata": {},
     "output_type": "execute_result"
    }
   ],
   "source": [
    "df1"
   ]
  },
  {
   "cell_type": "code",
   "execution_count": 160,
   "metadata": {},
   "outputs": [
    {
     "data": {
      "text/plain": [
       "available_sources    default\n",
       "bitcoin              default\n",
       "currencies           default\n",
       "stocks               default\n",
       "taxes                default\n",
       "Name: by, dtype: object"
      ]
     },
     "execution_count": 160,
     "metadata": {},
     "output_type": "execute_result"
    }
   ],
   "source": [
    "df1['by']"
   ]
  },
  {
   "cell_type": "code",
   "execution_count": 161,
   "metadata": {},
   "outputs": [
    {
     "data": {
      "text/plain": [
       "available_sources    True\n",
       "bitcoin              True\n",
       "currencies           True\n",
       "stocks               True\n",
       "taxes                True\n",
       "Name: valid_key, dtype: bool"
      ]
     },
     "execution_count": 161,
     "metadata": {},
     "output_type": "execute_result"
    }
   ],
   "source": [
    "df1['valid_key']"
   ]
  },
  {
   "cell_type": "code",
   "execution_count": 162,
   "metadata": {},
   "outputs": [
    {
     "data": {
      "text/plain": [
       "available_sources                                                [BRL]\n",
       "bitcoin              {u'omnitrade': {u'sell': 43000.0, u'buy': 4240...\n",
       "currencies           {u'ARS': {u'sell': None, u'buy': 0.0713, u'nam...\n",
       "stocks               {u'CAC': {u'name': u'CAC 40', u'variation': -0...\n",
       "taxes                [{u'date': u'2020-02-06', u'daily_factor': 1.0...\n",
       "Name: results, dtype: object"
      ]
     },
     "execution_count": 162,
     "metadata": {},
     "output_type": "execute_result"
    }
   ],
   "source": [
    "df1['results']"
   ]
  },
  {
   "cell_type": "code",
   "execution_count": 163,
   "metadata": {
    "scrolled": true
   },
   "outputs": [
    {
     "data": {
      "text/plain": [
       "{u'bitstamp': {u'buy': 9840.93,\n",
       "  u'format': [u'USD', u'en_US'],\n",
       "  u'last': 9840.0,\n",
       "  u'name': u'BitStamp',\n",
       "  u'sell': 9835.0,\n",
       "  u'variation': 1.095},\n",
       " u'blockchain_info': {u'buy': 9843.51,\n",
       "  u'format': [u'USD', u'en_US'],\n",
       "  u'last': 9843.51,\n",
       "  u'name': u'Blockchain.info',\n",
       "  u'sell': 9843.51,\n",
       "  u'variation': 1.145},\n",
       " u'coinbase': {u'format': [u'USD', u'en_US'],\n",
       "  u'last': 9828.61,\n",
       "  u'name': u'Coinbase',\n",
       "  u'variation': 0.91},\n",
       " u'foxbit': {u'format': [u'BRL', u'pt_BR'],\n",
       "  u'last': 42015.76,\n",
       "  u'name': u'FoxBit',\n",
       "  u'variation': -0.692},\n",
       " u'mercadobitcoin': {u'buy': 42001.02004,\n",
       "  u'format': [u'BRL', u'pt_BR'],\n",
       "  u'last': 42336.49992,\n",
       "  u'name': u'Mercado Bitcoin',\n",
       "  u'sell': 42336.47985,\n",
       "  u'variation': 0.643},\n",
       " u'omnitrade': {u'buy': 42400.0,\n",
       "  u'format': [u'BRL', u'pt_BR'],\n",
       "  u'last': 42887.37,\n",
       "  u'name': u'OmniTrade',\n",
       "  u'sell': 43000.0,\n",
       "  u'variation': 1.149},\n",
       " u'xdex': {u'format': [u'BRL', u'pt_BR'],\n",
       "  u'last': 41905.0,\n",
       "  u'name': u'XDEX',\n",
       "  u'variation': 0.661}}"
      ]
     },
     "execution_count": 163,
     "metadata": {},
     "output_type": "execute_result"
    }
   ],
   "source": [
    "df1['results']['bitcoin']"
   ]
  },
  {
   "cell_type": "code",
   "execution_count": 164,
   "metadata": {},
   "outputs": [
    {
     "data": {
      "text/plain": [
       "{u'ARS': {u'buy': 0.0713,\n",
       "  u'name': u'Argentine Peso',\n",
       "  u'sell': None,\n",
       "  u'variation': 0.14},\n",
       " u'BTC': {u'buy': 45058.706,\n",
       "  u'name': u'Bitcoin',\n",
       "  u'sell': 45058.706,\n",
       "  u'variation': 1.145},\n",
       " u'EUR': {u'buy': 4.7291,\n",
       "  u'name': u'Euro',\n",
       "  u'sell': 4.7281,\n",
       "  u'variation': -0.032},\n",
       " u'GBP': {u'buy': 5.5851,\n",
       "  u'name': u'Pound Sterling',\n",
       "  u'sell': None,\n",
       "  u'variation': 0.284},\n",
       " u'USD': {u'buy': 4.3184,\n",
       "  u'name': u'Dollar',\n",
       "  u'sell': 4.3189,\n",
       "  u'variation': -0.06},\n",
       " u'source': u'BRL'}"
      ]
     },
     "execution_count": 164,
     "metadata": {},
     "output_type": "execute_result"
    }
   ],
   "source": [
    "df1['results']['currencies']"
   ]
  },
  {
   "cell_type": "code",
   "execution_count": 165,
   "metadata": {},
   "outputs": [
    {
     "data": {
      "text/plain": [
       "{u'buy': 4.3184, u'name': u'Dollar', u'sell': 4.3189, u'variation': -0.06}"
      ]
     },
     "execution_count": 165,
     "metadata": {},
     "output_type": "execute_result"
    }
   ],
   "source": [
    "df1['results']['currencies']['USD']"
   ]
  },
  {
   "cell_type": "code",
   "execution_count": 166,
   "metadata": {},
   "outputs": [
    {
     "data": {
      "text/plain": [
       "u'Dollar'"
      ]
     },
     "execution_count": 166,
     "metadata": {},
     "output_type": "execute_result"
    }
   ],
   "source": [
    "df1['results']['currencies']['USD']['name']"
   ]
  },
  {
   "cell_type": "code",
   "execution_count": 167,
   "metadata": {},
   "outputs": [
    {
     "data": {
      "text/plain": [
       "4.3184"
      ]
     },
     "execution_count": 167,
     "metadata": {},
     "output_type": "execute_result"
    }
   ],
   "source": [
    "df1['results']['currencies']['USD']['buy']"
   ]
  },
  {
   "cell_type": "code",
   "execution_count": 168,
   "metadata": {},
   "outputs": [
    {
     "data": {
      "text/plain": [
       "4.3189"
      ]
     },
     "execution_count": 168,
     "metadata": {},
     "output_type": "execute_result"
    }
   ],
   "source": [
    "df1['results']['currencies']['USD']['sell']"
   ]
  },
  {
   "cell_type": "code",
   "execution_count": 169,
   "metadata": {},
   "outputs": [],
   "source": [
    "api_uri2 = 'https://api.hgbrasil.com/finance?array_limit=1&fields=only_results,currencies&key=8ba3aeb2'\n",
    "resposta2 = requests.get(api_uri2)"
   ]
  },
  {
   "cell_type": "code",
   "execution_count": 170,
   "metadata": {},
   "outputs": [
    {
     "data": {
      "text/plain": [
       "200"
      ]
     },
     "execution_count": 170,
     "metadata": {},
     "output_type": "execute_result"
    }
   ],
   "source": [
    "resposta2.status_code"
   ]
  },
  {
   "cell_type": "code",
   "execution_count": 171,
   "metadata": {},
   "outputs": [
    {
     "data": {
      "text/plain": [
       "u'{\"currencies\":{\"source\":\"BRL\",\"USD\":{\"name\":\"Dollar\",\"buy\":4.3184,\"sell\":4.3189,\"variation\":-0.06},\"EUR\":{\"name\":\"Euro\",\"buy\":4.7291,\"sell\":4.7281,\"variation\":-0.032},\"GBP\":{\"name\":\"Pound Sterling\",\"buy\":5.5851,\"sell\":null,\"variation\":0.284},\"ARS\":{\"name\":\"Argentine Peso\",\"buy\":0.0713,\"sell\":null,\"variation\":0.14},\"BTC\":{\"name\":\"Bitcoin\",\"buy\":45058.706,\"sell\":45058.706,\"variation\":1.145}}}'"
      ]
     },
     "execution_count": 171,
     "metadata": {},
     "output_type": "execute_result"
    }
   ],
   "source": [
    "resposta2.text"
   ]
  },
  {
   "cell_type": "code",
   "execution_count": 172,
   "metadata": {},
   "outputs": [],
   "source": [
    "df2 = pd.DataFrame(resposta2.json())['currencies']"
   ]
  },
  {
   "cell_type": "code",
   "execution_count": 173,
   "metadata": {},
   "outputs": [
    {
     "data": {
      "text/html": [
       "<div>\n",
       "<style scoped>\n",
       "    .dataframe tbody tr th:only-of-type {\n",
       "        vertical-align: middle;\n",
       "    }\n",
       "\n",
       "    .dataframe tbody tr th {\n",
       "        vertical-align: top;\n",
       "    }\n",
       "\n",
       "    .dataframe thead th {\n",
       "        text-align: right;\n",
       "    }\n",
       "</style>\n",
       "<table border=\"1\" class=\"dataframe\">\n",
       "  <thead>\n",
       "    <tr style=\"text-align: right;\">\n",
       "      <th></th>\n",
       "      <th>currencies</th>\n",
       "    </tr>\n",
       "  </thead>\n",
       "  <tbody>\n",
       "    <tr>\n",
       "      <th>ARS</th>\n",
       "      <td>{u'sell': None, u'buy': 0.0713, u'name': u'Arg...</td>\n",
       "    </tr>\n",
       "    <tr>\n",
       "      <th>BTC</th>\n",
       "      <td>{u'sell': 45058.706, u'buy': 45058.706, u'name...</td>\n",
       "    </tr>\n",
       "    <tr>\n",
       "      <th>EUR</th>\n",
       "      <td>{u'sell': 4.7281, u'buy': 4.7291, u'name': u'E...</td>\n",
       "    </tr>\n",
       "    <tr>\n",
       "      <th>GBP</th>\n",
       "      <td>{u'sell': None, u'buy': 5.5851, u'name': u'Pou...</td>\n",
       "    </tr>\n",
       "    <tr>\n",
       "      <th>USD</th>\n",
       "      <td>{u'sell': 4.3189, u'buy': 4.3184, u'name': u'D...</td>\n",
       "    </tr>\n",
       "    <tr>\n",
       "      <th>source</th>\n",
       "      <td>BRL</td>\n",
       "    </tr>\n",
       "  </tbody>\n",
       "</table>\n",
       "</div>"
      ],
      "text/plain": [
       "                                               currencies\n",
       "ARS     {u'sell': None, u'buy': 0.0713, u'name': u'Arg...\n",
       "BTC     {u'sell': 45058.706, u'buy': 45058.706, u'name...\n",
       "EUR     {u'sell': 4.7281, u'buy': 4.7291, u'name': u'E...\n",
       "GBP     {u'sell': None, u'buy': 5.5851, u'name': u'Pou...\n",
       "USD     {u'sell': 4.3189, u'buy': 4.3184, u'name': u'D...\n",
       "source                                                BRL"
      ]
     },
     "execution_count": 173,
     "metadata": {},
     "output_type": "execute_result"
    }
   ],
   "source": [
    "df2.to_frame()"
   ]
  },
  {
   "cell_type": "code",
   "execution_count": 174,
   "metadata": {},
   "outputs": [
    {
     "data": {
      "text/plain": [
       "6"
      ]
     },
     "execution_count": 174,
     "metadata": {},
     "output_type": "execute_result"
    }
   ],
   "source": [
    "df2.count()"
   ]
  },
  {
   "cell_type": "code",
   "execution_count": 175,
   "metadata": {},
   "outputs": [
    {
     "data": {
      "text/plain": [
       "{u'buy': 0.0713, u'name': u'Argentine Peso', u'sell': None, u'variation': 0.14}"
      ]
     },
     "execution_count": 175,
     "metadata": {},
     "output_type": "execute_result"
    }
   ],
   "source": [
    "df2['ARS']"
   ]
  },
  {
   "cell_type": "code",
   "execution_count": 176,
   "metadata": {},
   "outputs": [
    {
     "name": "stdout",
     "output_type": "stream",
     "text": [
      "Argentine Peso\n"
     ]
    }
   ],
   "source": [
    "print(df2['ARS']['name'])"
   ]
  },
  {
   "cell_type": "code",
   "execution_count": 177,
   "metadata": {},
   "outputs": [
    {
     "name": "stdout",
     "output_type": "stream",
     "text": [
      "0.0713\n"
     ]
    }
   ],
   "source": [
    "print(df2['ARS']['buy'])"
   ]
  },
  {
   "cell_type": "code",
   "execution_count": 178,
   "metadata": {},
   "outputs": [
    {
     "data": {
      "text/plain": [
       "NoneType"
      ]
     },
     "execution_count": 178,
     "metadata": {},
     "output_type": "execute_result"
    }
   ],
   "source": [
    "type(df2['ARS']['sell'])"
   ]
  },
  {
   "cell_type": "code",
   "execution_count": 179,
   "metadata": {},
   "outputs": [
    {
     "name": "stdout",
     "output_type": "stream",
     "text": [
      "None\n"
     ]
    }
   ],
   "source": [
    "print(df2['ARS']['sell'])"
   ]
  },
  {
   "cell_type": "code",
   "execution_count": 180,
   "metadata": {},
   "outputs": [
    {
     "data": {
      "text/plain": [
       "0.14"
      ]
     },
     "execution_count": 180,
     "metadata": {},
     "output_type": "execute_result"
    }
   ],
   "source": [
    "df2['ARS']['variation']"
   ]
  }
 ],
 "metadata": {
  "kernelspec": {
   "display_name": "Python 2",
   "language": "python",
   "name": "python2"
  },
  "language_info": {
   "codemirror_mode": {
    "name": "ipython",
    "version": 2
   },
   "file_extension": ".py",
   "mimetype": "text/x-python",
   "name": "python",
   "nbconvert_exporter": "python",
   "pygments_lexer": "ipython2",
   "version": "2.7.16"
  }
 },
 "nbformat": 4,
 "nbformat_minor": 2
}
