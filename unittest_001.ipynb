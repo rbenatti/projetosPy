{
 "cells": [
  {
   "cell_type": "code",
   "execution_count": 48,
   "metadata": {},
   "outputs": [],
   "source": [
    "import unittest"
   ]
  },
  {
   "cell_type": "code",
   "execution_count": 50,
   "metadata": {},
   "outputs": [],
   "source": [
    "unittest.TestCase??"
   ]
  },
  {
   "cell_type": "code",
   "execution_count": 57,
   "metadata": {},
   "outputs": [],
   "source": [
    "class DefaultWidgetSizeTestCase(unittest.TestCase):\n",
    "    def test_default_widget_size(self):\n",
    "        widget = Widget('The widget')\n",
    "        self.assertEqual(widget.size(), (50, 50))"
   ]
  },
  {
   "cell_type": "code",
   "execution_count": 61,
   "metadata": {},
   "outputs": [
    {
     "ename": "SyntaxError",
     "evalue": "invalid syntax (<ipython-input-61-012d108cb8c0>, line 1)",
     "output_type": "error",
     "traceback": [
      "\u001b[1;36m  File \u001b[1;32m\"<ipython-input-61-012d108cb8c0>\"\u001b[1;36m, line \u001b[1;32m1\u001b[0m\n\u001b[1;33m    def TestParseMatheEquationStringTestCase(unittest.TestParseMatheEquationStringTestCase):\u001b[0m\n\u001b[1;37m                                                     ^\u001b[0m\n\u001b[1;31mSyntaxError\u001b[0m\u001b[1;31m:\u001b[0m invalid syntax\n"
     ]
    }
   ],
   "source": [
    "def TestParseMatheEquationStringTestCase(unittest.TestParseMatheEquationStringTestCase):\n",
    "    def test_parse_matheEquation_string(self):\n",
    "    self.assertEqual(parse_mathEquation_string('2 * 2 + 3 - 1 / 2 + 2.5'), '5.5')\n",
    "    self.assertEqual(parse_mathEquation_string('-1 * 3 + 5 - -14 / 2'), '8.0')\n",
    "    self.assertEqual(parse_mathEquation_string('3 * 2 + 4 / 10 - 15'), '-14.0')\n",
    "\n",
    "if __name__ == '__main__':\n",
    "    unittest.main()"
   ]
  },
  {
   "cell_type": "code",
   "execution_count": 44,
   "metadata": {},
   "outputs": [],
   "source": [
    "def parse_mathEquation_string(text):\n",
    "    equation = text.split(' ')\n",
    "    \n",
    "    result = int(equation[0])\n",
    "    for i in range(1, len(equation), 2):\n",
    "        if(equation[i] == '+'):\n",
    "            result += float(equation[i + 1])\n",
    "        elif(equation[i] == '-'):\n",
    "            result -= float(equation[i + 1])\n",
    "        elif(equation[i] == '*'):\n",
    "            result *= float(equation[i + 1])\n",
    "        elif(equation[i] == '/'):\n",
    "            result /= float(equation[i + 1])\n",
    "\n",
    "    return str(result)"
   ]
  },
  {
   "cell_type": "code",
   "execution_count": 42,
   "metadata": {},
   "outputs": [
    {
     "data": {
      "text/plain": [
       "'33.0'"
      ]
     },
     "execution_count": 42,
     "metadata": {},
     "output_type": "execute_result"
    }
   ],
   "source": [
    "parse_mathEquation_string('12 + 21')"
   ]
  }
 ],
 "metadata": {
  "kernelspec": {
   "display_name": "Python 3",
   "language": "python",
   "name": "python3"
  },
  "language_info": {
   "codemirror_mode": {
    "name": "ipython",
    "version": 3
   },
   "file_extension": ".py",
   "mimetype": "text/x-python",
   "name": "python",
   "nbconvert_exporter": "python",
   "pygments_lexer": "ipython3",
   "version": "3.7.1"
  }
 },
 "nbformat": 4,
 "nbformat_minor": 2
}
