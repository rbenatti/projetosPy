{
 "cells": [
  {
   "cell_type": "code",
   "execution_count": 2,
   "metadata": {},
   "outputs": [],
   "source": [
    "#      "
   ]
  },
  {
   "cell_type": "code",
   "execution_count": 4,
   "metadata": {},
   "outputs": [],
   "source": [
    "import pandas as pd\n",
    "import requests"
   ]
  },
  {
   "cell_type": "code",
   "execution_count": 50,
   "metadata": {},
   "outputs": [],
   "source": [
    "api_uri1 = 'https://api.hgbrasil.com/finance?format=json-cors&key=8ba3aeb2'\n",
    "resposta1 = requests.get(api_uri1)"
   ]
  },
  {
   "cell_type": "code",
   "execution_count": 7,
   "metadata": {},
   "outputs": [
    {
     "data": {
      "text/plain": [
       "<Response [200]>"
      ]
     },
     "execution_count": 7,
     "metadata": {},
     "output_type": "execute_result"
    }
   ],
   "source": [
    "resposta1\n"
   ]
  },
  {
   "cell_type": "code",
   "execution_count": 8,
   "metadata": {},
   "outputs": [
    {
     "data": {
      "text/plain": [
       "u'{\"by\":\"default\",\"valid_key\":true,\"results\":{\"currencies\":{\"source\":\"BRL\",\"USD\":{\"name\":\"Dollar\",\"buy\":4.3126,\"sell\":4.3115,\"variation\":0.623},\"EUR\":{\"name\":\"Euro\",\"buy\":4.7197,\"sell\":4.7182,\"variation\":0.327},\"GBP\":{\"name\":\"Pound Sterling\",\"buy\":5.561,\"sell\":null,\"variation\":0.45},\"ARS\":{\"name\":\"Argentine Peso\",\"buy\":0.071,\"sell\":null,\"variation\":0.282},\"BTC\":{\"name\":\"Bitcoin\",\"buy\":44664.845,\"sell\":44664.845,\"variation\":0.28}},\"stocks\":{\"IBOVESPA\":{\"name\":\"BM\\\\u0026F BOVESPA\",\"location\":\"Sao Paulo, Brazil\",\"points\":114493.492,\"variation\":-0.6},\"NASDAQ\":{\"name\":\"NASDAQ Stock Market\",\"location\":\"New York City, United States\",\"points\":9560.81,\"variation\":-0.12},\"CAC\":{\"name\":\"CAC 40\",\"location\":\"Paris, French\",\"variation\":-0.14},\"NIKKEI\":{\"name\":\"Nikkei 225\",\"location\":\"Tokyo, Japan\",\"variation\":-0.19}},\"available_sources\":[\"BRL\"],\"bitcoin\":{\"blockchain_info\":{\"name\":\"Blockchain.info\",\"format\":[\"USD\",\"en_US\"],\"last\":9770.59,\"buy\":9770.59,\"sell\":9770.59,\"variation\":0.28},\"coinbase\":{\"name\":\"Coinbase\",\"format\":[\"USD\",\"en_US\"],\"last\":9775.365,\"variation\":0.27},\"bitstamp\":{\"name\":\"BitStamp\",\"format\":[\"USD\",\"en_US\"],\"last\":9763.21,\"buy\":9774.85,\"sell\":9763.21,\"variation\":0.14},\"foxbit\":{\"name\":\"FoxBit\",\"format\":[\"BRL\",\"pt_BR\"],\"last\":42300.0,\"variation\":1.435},\"mercadobitcoin\":{\"name\":\"Mercado Bitcoin\",\"format\":[\"BRL\",\"pt_BR\"],\"last\":42387.97982,\"buy\":42210.00017,\"sell\":42386.99921,\"variation\":1.249},\"omnitrade\":{\"name\":\"OmniTrade\",\"format\":[\"BRL\",\"pt_BR\"],\"last\":42343.71,\"buy\":42000.0,\"sell\":42460.0,\"variation\":0.675},\"xdex\":{\"name\":\"XDEX\",\"format\":[\"BRL\",\"pt_BR\"],\"last\":41632.0,\"variation\":1.171}},\"taxes\":[{\"date\":\"2020-02-06\",\"cdi\":4.15,\"selic\":4.15,\"daily_factor\":1.00016137}]},\"execution_time\":0.0,\"from_cache\":true}'"
      ]
     },
     "execution_count": 8,
     "metadata": {},
     "output_type": "execute_result"
    }
   ],
   "source": [
    "resposta1\n",
    ".text"
   ]
  },
  {
   "cell_type": "code",
   "execution_count": 53,
   "metadata": {},
   "outputs": [],
   "source": [
    "df1 = pd.DataFrame(resposta1.json())"
   ]
  },
  {
   "cell_type": "code",
   "execution_count": 54,
   "metadata": {},
   "outputs": [
    {
     "data": {
      "text/html": [
       "<div>\n",
       "<style scoped>\n",
       "    .dataframe tbody tr th:only-of-type {\n",
       "        vertical-align: middle;\n",
       "    }\n",
       "\n",
       "    .dataframe tbody tr th {\n",
       "        vertical-align: top;\n",
       "    }\n",
       "\n",
       "    .dataframe thead th {\n",
       "        text-align: right;\n",
       "    }\n",
       "</style>\n",
       "<table border=\"1\" class=\"dataframe\">\n",
       "  <thead>\n",
       "    <tr style=\"text-align: right;\">\n",
       "      <th></th>\n",
       "      <th>by</th>\n",
       "      <th>execution_time</th>\n",
       "      <th>from_cache</th>\n",
       "      <th>results</th>\n",
       "      <th>valid_key</th>\n",
       "    </tr>\n",
       "  </thead>\n",
       "  <tbody>\n",
       "    <tr>\n",
       "      <th>available_sources</th>\n",
       "      <td>default</td>\n",
       "      <td>0.0</td>\n",
       "      <td>True</td>\n",
       "      <td>[BRL]</td>\n",
       "      <td>True</td>\n",
       "    </tr>\n",
       "    <tr>\n",
       "      <th>bitcoin</th>\n",
       "      <td>default</td>\n",
       "      <td>0.0</td>\n",
       "      <td>True</td>\n",
       "      <td>{u'omnitrade': {u'sell': 42460.0, u'buy': 4200...</td>\n",
       "      <td>True</td>\n",
       "    </tr>\n",
       "    <tr>\n",
       "      <th>currencies</th>\n",
       "      <td>default</td>\n",
       "      <td>0.0</td>\n",
       "      <td>True</td>\n",
       "      <td>{u'ARS': {u'sell': None, u'buy': 0.0709, u'nam...</td>\n",
       "      <td>True</td>\n",
       "    </tr>\n",
       "    <tr>\n",
       "      <th>stocks</th>\n",
       "      <td>default</td>\n",
       "      <td>0.0</td>\n",
       "      <td>True</td>\n",
       "      <td>{u'CAC': {u'name': u'CAC 40', u'variation': -0...</td>\n",
       "      <td>True</td>\n",
       "    </tr>\n",
       "    <tr>\n",
       "      <th>taxes</th>\n",
       "      <td>default</td>\n",
       "      <td>0.0</td>\n",
       "      <td>True</td>\n",
       "      <td>[{u'date': u'2020-02-06', u'daily_factor': 1.0...</td>\n",
       "      <td>True</td>\n",
       "    </tr>\n",
       "  </tbody>\n",
       "</table>\n",
       "</div>"
      ],
      "text/plain": [
       "                        by  execution_time  from_cache  \\\n",
       "available_sources  default             0.0        True   \n",
       "bitcoin            default             0.0        True   \n",
       "currencies         default             0.0        True   \n",
       "stocks             default             0.0        True   \n",
       "taxes              default             0.0        True   \n",
       "\n",
       "                                                             results  \\\n",
       "available_sources                                              [BRL]   \n",
       "bitcoin            {u'omnitrade': {u'sell': 42460.0, u'buy': 4200...   \n",
       "currencies         {u'ARS': {u'sell': None, u'buy': 0.0709, u'nam...   \n",
       "stocks             {u'CAC': {u'name': u'CAC 40', u'variation': -0...   \n",
       "taxes              [{u'date': u'2020-02-06', u'daily_factor': 1.0...   \n",
       "\n",
       "                   valid_key  \n",
       "available_sources       True  \n",
       "bitcoin                 True  \n",
       "currencies              True  \n",
       "stocks                  True  \n",
       "taxes                   True  "
      ]
     },
     "execution_count": 54,
     "metadata": {},
     "output_type": "execute_result"
    }
   ],
   "source": [
    "df1"
   ]
  },
  {
   "cell_type": "code",
   "execution_count": 55,
   "metadata": {},
   "outputs": [
    {
     "data": {
      "text/plain": [
       "available_sources    default\n",
       "bitcoin              default\n",
       "currencies           default\n",
       "stocks               default\n",
       "taxes                default\n",
       "Name: by, dtype: object"
      ]
     },
     "execution_count": 55,
     "metadata": {},
     "output_type": "execute_result"
    }
   ],
   "source": [
    "df1['by']"
   ]
  },
  {
   "cell_type": "code",
   "execution_count": 56,
   "metadata": {},
   "outputs": [
    {
     "data": {
      "text/plain": [
       "available_sources    True\n",
       "bitcoin              True\n",
       "currencies           True\n",
       "stocks               True\n",
       "taxes                True\n",
       "Name: valid_key, dtype: bool"
      ]
     },
     "execution_count": 56,
     "metadata": {},
     "output_type": "execute_result"
    }
   ],
   "source": [
    "df1['valid_key']"
   ]
  },
  {
   "cell_type": "code",
   "execution_count": 57,
   "metadata": {},
   "outputs": [
    {
     "data": {
      "text/plain": [
       "available_sources                                                [BRL]\n",
       "bitcoin              {u'omnitrade': {u'sell': 42460.0, u'buy': 4200...\n",
       "currencies           {u'ARS': {u'sell': None, u'buy': 0.0709, u'nam...\n",
       "stocks               {u'CAC': {u'name': u'CAC 40', u'variation': -0...\n",
       "taxes                [{u'date': u'2020-02-06', u'daily_factor': 1.0...\n",
       "Name: results, dtype: object"
      ]
     },
     "execution_count": 57,
     "metadata": {},
     "output_type": "execute_result"
    }
   ],
   "source": [
    "df1['results']"
   ]
  },
  {
   "cell_type": "code",
   "execution_count": 58,
   "metadata": {
    "scrolled": true
   },
   "outputs": [
    {
     "data": {
      "text/plain": [
       "{u'bitstamp': {u'buy': 9789.68,\n",
       "  u'format': [u'USD', u'en_US'],\n",
       "  u'last': 9789.69,\n",
       "  u'name': u'BitStamp',\n",
       "  u'sell': 9779.16,\n",
       "  u'variation': 0.412},\n",
       " u'blockchain_info': {u'buy': 9783.71,\n",
       "  u'format': [u'USD', u'en_US'],\n",
       "  u'last': 9783.71,\n",
       "  u'name': u'Blockchain.info',\n",
       "  u'sell': 9783.71,\n",
       "  u'variation': 0.415},\n",
       " u'coinbase': {u'format': [u'USD', u'en_US'],\n",
       "  u'last': 9782.705,\n",
       "  u'name': u'Coinbase',\n",
       "  u'variation': 0.345},\n",
       " u'foxbit': {u'format': [u'BRL', u'pt_BR'],\n",
       "  u'last': 42499.97,\n",
       "  u'name': u'FoxBit',\n",
       "  u'variation': 1.915},\n",
       " u'mercadobitcoin': {u'buy': 42209.59004,\n",
       "  u'format': [u'BRL', u'pt_BR'],\n",
       "  u'last': 42359.98,\n",
       "  u'name': u'Mercado Bitcoin',\n",
       "  u'sell': 42359.96992,\n",
       "  u'variation': 1.182},\n",
       " u'omnitrade': {u'buy': 42000.0,\n",
       "  u'format': [u'BRL', u'pt_BR'],\n",
       "  u'last': 42170.83,\n",
       "  u'name': u'OmniTrade',\n",
       "  u'sell': 42460.0,\n",
       "  u'variation': 0.264},\n",
       " u'xdex': {u'format': [u'BRL', u'pt_BR'],\n",
       "  u'last': 41649.98,\n",
       "  u'name': u'XDEX',\n",
       "  u'variation': 1.215}}"
      ]
     },
     "execution_count": 58,
     "metadata": {},
     "output_type": "execute_result"
    }
   ],
   "source": [
    "df1['results']['bitcoin']"
   ]
  },
  {
   "cell_type": "code",
   "execution_count": 59,
   "metadata": {},
   "outputs": [
    {
     "data": {
      "text/plain": [
       "{u'ARS': {u'buy': 0.0709,\n",
       "  u'name': u'Argentine Peso',\n",
       "  u'sell': None,\n",
       "  u'variation': 0.141},\n",
       " u'BTC': {u'buy': 44689.561,\n",
       "  u'name': u'Bitcoin',\n",
       "  u'sell': 44689.561,\n",
       "  u'variation': 0.415},\n",
       " u'EUR': {u'buy': 4.7169,\n",
       "  u'name': u'Euro',\n",
       "  u'sell': 4.7163,\n",
       "  u'variation': 0.268},\n",
       " u'GBP': {u'buy': 5.5599,\n",
       "  u'name': u'Pound Sterling',\n",
       "  u'sell': None,\n",
       "  u'variation': 0.43},\n",
       " u'USD': {u'buy': 4.3092,\n",
       "  u'name': u'Dollar',\n",
       "  u'sell': 4.3093,\n",
       "  u'variation': 0.544},\n",
       " u'source': u'BRL'}"
      ]
     },
     "execution_count": 59,
     "metadata": {},
     "output_type": "execute_result"
    }
   ],
   "source": [
    "df1['results']['currencies']"
   ]
  },
  {
   "cell_type": "code",
   "execution_count": 60,
   "metadata": {},
   "outputs": [
    {
     "data": {
      "text/plain": [
       "{u'buy': 4.3092, u'name': u'Dollar', u'sell': 4.3093, u'variation': 0.544}"
      ]
     },
     "execution_count": 60,
     "metadata": {},
     "output_type": "execute_result"
    }
   ],
   "source": [
    "df1['results']['currencies']['USD']"
   ]
  },
  {
   "cell_type": "code",
   "execution_count": 61,
   "metadata": {},
   "outputs": [
    {
     "data": {
      "text/plain": [
       "u'Dollar'"
      ]
     },
     "execution_count": 61,
     "metadata": {},
     "output_type": "execute_result"
    }
   ],
   "source": [
    "df1['results']['currencies']['USD']['name']"
   ]
  },
  {
   "cell_type": "code",
   "execution_count": 62,
   "metadata": {},
   "outputs": [
    {
     "data": {
      "text/plain": [
       "4.3092"
      ]
     },
     "execution_count": 62,
     "metadata": {},
     "output_type": "execute_result"
    }
   ],
   "source": [
    "df1['results']['currencies']['USD']['buy']"
   ]
  },
  {
   "cell_type": "code",
   "execution_count": 63,
   "metadata": {},
   "outputs": [
    {
     "data": {
      "text/plain": [
       "4.3093"
      ]
     },
     "execution_count": 63,
     "metadata": {},
     "output_type": "execute_result"
    }
   ],
   "source": [
    "df1['results']['currencies']['USD']['sell']"
   ]
  },
  {
   "cell_type": "code",
   "execution_count": 64,
   "metadata": {},
   "outputs": [],
   "source": [
    "api_uri2 = 'https://api.hgbrasil.com/finance?array_limit=1&fields=only_results,currencies&key=8ba3aeb2'\n",
    "resposta2 = requests.get(api_uri2)"
   ]
  },
  {
   "cell_type": "code",
   "execution_count": 66,
   "metadata": {},
   "outputs": [
    {
     "data": {
      "text/plain": [
       "200"
      ]
     },
     "execution_count": 66,
     "metadata": {},
     "output_type": "execute_result"
    }
   ],
   "source": [
    "resposta2.status_code"
   ]
  },
  {
   "cell_type": "code",
   "execution_count": 75,
   "metadata": {},
   "outputs": [
    {
     "data": {
      "text/plain": [
       "u'{\"currencies\":{\"source\":\"BRL\",\"USD\":{\"name\":\"Dollar\",\"buy\":4.3092,\"sell\":4.3093,\"variation\":0.544},\"EUR\":{\"name\":\"Euro\",\"buy\":4.7169,\"sell\":4.7163,\"variation\":0.268},\"GBP\":{\"name\":\"Pound Sterling\",\"buy\":5.5599,\"sell\":null,\"variation\":0.43},\"ARS\":{\"name\":\"Argentine Peso\",\"buy\":0.0709,\"sell\":null,\"variation\":0.141},\"BTC\":{\"name\":\"Bitcoin\",\"buy\":44689.561,\"sell\":44689.561,\"variation\":0.415}}}'"
      ]
     },
     "execution_count": 75,
     "metadata": {},
     "output_type": "execute_result"
    }
   ],
   "source": [
    "resposta2.text"
   ]
  },
  {
   "cell_type": "code",
   "execution_count": 76,
   "metadata": {},
   "outputs": [],
   "source": [
    "df2 = pd.DataFrame(resposta2.json())['currencies']"
   ]
  },
  {
   "cell_type": "code",
   "execution_count": 101,
   "metadata": {},
   "outputs": [
    {
     "data": {
      "text/html": [
       "<div>\n",
       "<style scoped>\n",
       "    .dataframe tbody tr th:only-of-type {\n",
       "        vertical-align: middle;\n",
       "    }\n",
       "\n",
       "    .dataframe tbody tr th {\n",
       "        vertical-align: top;\n",
       "    }\n",
       "\n",
       "    .dataframe thead th {\n",
       "        text-align: right;\n",
       "    }\n",
       "</style>\n",
       "<table border=\"1\" class=\"dataframe\">\n",
       "  <thead>\n",
       "    <tr style=\"text-align: right;\">\n",
       "      <th></th>\n",
       "      <th>currencies</th>\n",
       "    </tr>\n",
       "  </thead>\n",
       "  <tbody>\n",
       "    <tr>\n",
       "      <th>ARS</th>\n",
       "      <td>{u'sell': None, u'buy': 0.0709, u'name': u'Arg...</td>\n",
       "    </tr>\n",
       "    <tr>\n",
       "      <th>BTC</th>\n",
       "      <td>{u'sell': 44689.561, u'buy': 44689.561, u'name...</td>\n",
       "    </tr>\n",
       "    <tr>\n",
       "      <th>EUR</th>\n",
       "      <td>{u'sell': 4.7163, u'buy': 4.7169, u'name': u'E...</td>\n",
       "    </tr>\n",
       "    <tr>\n",
       "      <th>GBP</th>\n",
       "      <td>{u'sell': None, u'buy': 5.5599, u'name': u'Pou...</td>\n",
       "    </tr>\n",
       "    <tr>\n",
       "      <th>USD</th>\n",
       "      <td>{u'sell': 4.3093, u'buy': 4.3092, u'name': u'D...</td>\n",
       "    </tr>\n",
       "    <tr>\n",
       "      <th>source</th>\n",
       "      <td>BRL</td>\n",
       "    </tr>\n",
       "  </tbody>\n",
       "</table>\n",
       "</div>"
      ],
      "text/plain": [
       "                                               currencies\n",
       "ARS     {u'sell': None, u'buy': 0.0709, u'name': u'Arg...\n",
       "BTC     {u'sell': 44689.561, u'buy': 44689.561, u'name...\n",
       "EUR     {u'sell': 4.7163, u'buy': 4.7169, u'name': u'E...\n",
       "GBP     {u'sell': None, u'buy': 5.5599, u'name': u'Pou...\n",
       "USD     {u'sell': 4.3093, u'buy': 4.3092, u'name': u'D...\n",
       "source                                                BRL"
      ]
     },
     "execution_count": 101,
     "metadata": {},
     "output_type": "execute_result"
    }
   ],
   "source": [
    "df2.to_frame()"
   ]
  },
  {
   "cell_type": "code",
   "execution_count": 100,
   "metadata": {},
   "outputs": [
    {
     "data": {
      "text/plain": [
       "6"
      ]
     },
     "execution_count": 100,
     "metadata": {},
     "output_type": "execute_result"
    }
   ],
   "source": [
    "df2.count()"
   ]
  },
  {
   "cell_type": "code",
   "execution_count": 82,
   "metadata": {},
   "outputs": [
    {
     "data": {
      "text/plain": [
       "{u'buy': 0.0709,\n",
       " u'name': u'Argentine Peso',\n",
       " u'sell': None,\n",
       " u'variation': 0.141}"
      ]
     },
     "execution_count": 82,
     "metadata": {},
     "output_type": "execute_result"
    }
   ],
   "source": [
    "df2['ARS']"
   ]
  },
  {
   "cell_type": "code",
   "execution_count": 102,
   "metadata": {},
   "outputs": [
    {
     "name": "stdout",
     "output_type": "stream",
     "text": [
      "Argentine Peso\n"
     ]
    }
   ],
   "source": [
    "print(df2['ARS']['name'])"
   ]
  },
  {
   "cell_type": "code",
   "execution_count": 103,
   "metadata": {},
   "outputs": [
    {
     "name": "stdout",
     "output_type": "stream",
     "text": [
      "0.0709\n"
     ]
    }
   ],
   "source": [
    "print(df2['ARS']['buy'])"
   ]
  },
  {
   "cell_type": "code",
   "execution_count": 97,
   "metadata": {},
   "outputs": [
    {
     "data": {
      "text/plain": [
       "NoneType"
      ]
     },
     "execution_count": 97,
     "metadata": {},
     "output_type": "execute_result"
    }
   ],
   "source": [
    "type(df2['ARS']['sell'])"
   ]
  },
  {
   "cell_type": "code",
   "execution_count": 99,
   "metadata": {},
   "outputs": [
    {
     "name": "stdout",
     "output_type": "stream",
     "text": [
      "None\n"
     ]
    }
   ],
   "source": [
    "print(df2['ARS']['sell'])"
   ]
  },
  {
   "cell_type": "code",
   "execution_count": 87,
   "metadata": {},
   "outputs": [
    {
     "data": {
      "text/plain": [
       "0.141"
      ]
     },
     "execution_count": 87,
     "metadata": {},
     "output_type": "execute_result"
    }
   ],
   "source": [
    "df2['ARS']['variation']"
   ]
  },
  {
   "cell_type": "code",
   "execution_count": null,
   "metadata": {},
   "outputs": [],
   "source": [
    "# 1. Estrutura da consulta\n",
    "#\n",
    "# 1.1 definir o endpoit da API\n",
    "# api_uri = 'https://api.hgbrasil.com/finance?array_limit=1&fields=only_results,currencies&key=8ba3aeb2'\n",
    "#\n",
    "# 1.2 Executar a chamada ao método HTTP GET e armazenar em resposta\n",
    "# resposta = requests.get(api_uri)\n",
    "#\n",
    "# 1.3 Validar o código mensagem http error (200 - sucesso)\n",
    "# resposta.status_code\n",
    "#\n",
    "# 1.4 Gerar um DataFrame com a resposta json da API\n",
    "# df = pd.DataFrame(resposta.json())\n",
    "#\n",
    "# 1.5 Mostrar o DataFrame da resposta recebida\n",
    "# df\n",
    "#\n"
   ]
  },
  {
   "cell_type": "code",
   "execution_count": 107,
   "metadata": {},
   "outputs": [
    {
     "name": "stdout",
     "output_type": "stream",
     "text": [
      "Object `print` not found.\n"
     ]
    }
   ],
   "source": []
  },
  {
   "cell_type": "code",
   "execution_count": null,
   "metadata": {},
   "outputs": [],
   "source": []
  }
 ],
 "metadata": {
  "kernelspec": {
   "display_name": "Python 2",
   "language": "python",
   "name": "python2"
  },
  "language_info": {
   "codemirror_mode": {
    "name": "ipython",
    "version": 2
   },
   "file_extension": ".py",
   "mimetype": "text/x-python",
   "name": "python",
   "nbconvert_exporter": "python",
   "pygments_lexer": "ipython2",
   "version": "2.7.16"
  }
 },
 "nbformat": 4,
 "nbformat_minor": 2
}
